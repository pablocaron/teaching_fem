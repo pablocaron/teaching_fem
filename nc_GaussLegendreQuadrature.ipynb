{
  "nbformat": 4,
  "nbformat_minor": 0,
  "metadata": {
    "colab": {
      "name": "nc_GaussLegendreQuadrature.ipynb",
      "provenance": [],
      "collapsed_sections": [],
      "include_colab_link": true
    },
    "kernelspec": {
      "name": "python3",
      "display_name": "Python 3"
    },
    "language_info": {
      "name": "python"
    }
  },
  "cells": [
    {
      "cell_type": "markdown",
      "metadata": {
        "id": "view-in-github",
        "colab_type": "text"
      },
      "source": [
        "<a href=\"https://colab.research.google.com/github/pablocaron/teaching_fem/blob/main/nc_GaussLegendreQuadrature.ipynb\" target=\"_parent\"><img src=\"https://colab.research.google.com/assets/colab-badge.svg\" alt=\"Open In Colab\"/></a>"
      ]
    },
    {
      "cell_type": "code",
      "metadata": {
        "id": "I_BMFqCAxHpa"
      },
      "source": [
        "import numpy as np                    # Import numpy\n",
        "from matplotlib import pyplot as plt  # Import matplotlib to make plots\n",
        "from matplotlib import cm             # Import matplotlib colormaps for 3D plots\n",
        "import sympy as sym                   # Import sympy to do symbolic calculations\n",
        "from sympy.utilities.lambdify import lambdify, implemented_function"
      ],
      "execution_count": null,
      "outputs": []
    },
    {
      "cell_type": "markdown",
      "metadata": {
        "id": "uNJ0TlCHxUP7"
      },
      "source": [
        "Although the Gauss-Legendre quadrature can be calculated using scipy.integrate.quadrature function the idea is to do this calculation \"by hand\".\n",
        "\n",
        "The weights and normalized coordinates are stored in the following lists.\n"
      ]
    },
    {
      "cell_type": "code",
      "metadata": {
        "id": "EMvtVqjMxYPE"
      },
      "source": [
        "wiGauss=[[2],\n",
        "         [1.0,1.0],\n",
        "         [0.8888888888888888,0.5555555555555556,0.5555555555555556]]   # The first three groups of weights to use in Gauss-Legendre quadrature\n",
        "xiGauss=[[0],\n",
        "         [-0.5773502691896257,0.5773502691896257],\n",
        "         [0.0000000000000000,-0.7745966692414834,0.7745966692414834]]  # The first three groups of coordinates to use in Gauss-Legendre quadrature"
      ],
      "execution_count": null,
      "outputs": []
    },
    {
      "cell_type": "markdown",
      "metadata": {
        "id": "HwO__U3A0Okp"
      },
      "source": [
        "In the following sentence a sample function is defined to be integrated afterwards."
      ]
    },
    {
      "cell_type": "code",
      "metadata": {
        "id": "mBr6PKQ50R21"
      },
      "source": [
        "def f(x):\n",
        "  \"This function return x squared\"\n",
        "  return x**2             # Argument is returned as power of 2\n",
        "\n",
        "def f_sym(x):\n",
        "  \"Function to calculate the sin(x)\"\n",
        "  return x**2        # Return the symbolic expresion for the sine function"
      ],
      "execution_count": null,
      "outputs": []
    },
    {
      "cell_type": "code",
      "metadata": {
        "id": "wczaPoodt45B"
      },
      "source": [
        "#def f(x):\n",
        "#  \"Function to calculate the sin(x)\"\n",
        "#  return np.sin(x)\n",
        "\n",
        "#def f_sym(x):\n",
        "#  \"Function to calculate the sin(x)\"\n",
        "#  return sym.sin(x)        # Return the symbolic expresion for the sine function"
      ],
      "execution_count": null,
      "outputs": []
    },
    {
      "cell_type": "markdown",
      "metadata": {
        "id": "N7rp0Gsx0WVQ"
      },
      "source": [
        "The function $f(x)$ is symbolically integrated using the symbolic.integrate function between two generic values $a$ and $b$."
      ]
    },
    {
      "cell_type": "code",
      "metadata": {
        "colab": {
          "base_uri": "https://localhost:8080/",
          "height": 54
        },
        "id": "GnQduQt40bQO",
        "outputId": "a48249b0-975b-4426-d3a7-3a0f21b0923f"
      },
      "source": [
        "x,a,b=sym.symbols('x,a,b')       # Symbols are defined for further symbolic processes\n",
        "sym.integrate(f_sym(x),[x,a,b])  # Function is symbolically integrated"
      ],
      "execution_count": null,
      "outputs": [
        {
          "output_type": "execute_result",
          "data": {
            "text/latex": "$\\displaystyle - \\frac{a^{3}}{3} + \\frac{b^{3}}{3}$",
            "text/plain": [
              "-a**3/3 + b**3/3"
            ]
          },
          "metadata": {},
          "execution_count": 5
        }
      ]
    },
    {
      "cell_type": "markdown",
      "metadata": {
        "id": "943scH0u1QhM"
      },
      "source": [
        "The Gauss-Legendre quadrature is defined in the *natural coordinates* $-1\\leq\\xi\\leq1$ so it is necesarry to make a map between the actual coordinates and these natural coordinates. This map can be easily described by using the Lagrange interpolation in the *natural coodinates* as follows\n",
        "\\begin{align*}\n",
        " L_0(\\xi)&=\\frac{\\xi-\\xi_1}{\\xi_0-\\xi_1}=\\frac{\\xi-1}{-1-1}=-\\frac{\\xi-1}{2}\\\\\n",
        " L_1(\\xi)&=\\frac{\\xi-\\xi_0}{\\xi_1-\\xi_0}=\\frac{\\xi-(-1)}{1-(-1)}=\\frac{\\xi+1}{2}\n",
        "\\end{align*}\n",
        "then the map can be expresed as\n",
        "\\begin{align*}\n",
        " x(\\xi)&=L_0(\\xi)x_0+L_1(\\xi)x_1\\\\\n",
        " x(\\xi)&=-\\frac{\\xi-1}{2}x_0+\\frac{\\xi+1}{2}x_1\n",
        "\\end{align*}\n",
        "Also the differential are related as\n",
        "\\begin{align*}\n",
        " dx(\\xi)&=dL_0(\\xi)x_0+dL_1(\\xi)x_1\\\\\n",
        "        &=\\frac{dL_0(\\xi)}{d\\xi}d\\xi\\ x_0+\\frac{dL_1(\\xi)}{d\\xi}d\\xi\\ x_1\\\\\n",
        "        &=-\\frac{1}{2}d\\xi\\ x_0+\\frac{1}{2}d\\xi\\ x_1\\\\\n",
        "    dx&=\\frac{x_1-x_0}{2}d\\xi\n",
        "\\end{align*}"
      ]
    },
    {
      "cell_type": "markdown",
      "metadata": {
        "id": "U1LP2ndyeESG"
      },
      "source": [
        "In the following sentences the Lagrange functions are defined in the *natural coordinates* as previously expresed."
      ]
    },
    {
      "cell_type": "code",
      "metadata": {
        "id": "ADA3F8iG4Vn8"
      },
      "source": [
        "def L0(Xi):\n",
        "  \"Lagrange linear function for node 0. Domain is defined between -1 and 1\"\n",
        "  return (-(Xi-1.0)/2.0)\n",
        "\n",
        "def L1(Xi):\n",
        "  \"Lagrange linear function for node 1. Domain is defined between -1 and 1\"\n",
        "  return (Xi+1.0)/2.0"
      ],
      "execution_count": null,
      "outputs": []
    },
    {
      "cell_type": "markdown",
      "metadata": {
        "id": "DPh2N15MlwT1"
      },
      "source": [
        "The Lagrange functions can now be plotted as follows"
      ]
    },
    {
      "cell_type": "code",
      "metadata": {
        "colab": {
          "base_uri": "https://localhost:8080/",
          "height": 283
        },
        "id": "o1YVWx4iiFQJ",
        "outputId": "0cd2d9b7-da82-4336-d4a8-8ee6c697b6ac"
      },
      "source": [
        "xPlt = np.linspace(-1, 1, 10)            # Define a list of even separated points to plot the functions\n",
        "plt.plot(xPlt, L0(xPlt), color='red')    # Plot the L0 Lagrange function\n",
        "plt.plot(xPlt, L1(xPlt), color='green')  # Plot the L1 Lagrange function\n",
        "plt.legend([r'$L_0(\\xi)$',r'$L_1(\\xi)$'])          # Add plot labels\n",
        "plt.xlabel(r'$\\xi$')                         # Add the label to the x axis\n",
        "plt.show()                               # Show the plot"
      ],
      "execution_count": null,
      "outputs": [
        {
          "output_type": "display_data",
          "data": {
            "image/png": "[encoded data removed]",
            "text/plain": [
              "<Figure size 432x288 with 1 Axes>"
            ]
          },
          "metadata": {
            "needs_background": "light"
          }
        }
      ]
    },
    {
      "cell_type": "markdown",
      "metadata": {
        "id": "hRHLHHxx4lqp"
      },
      "source": [
        "It is now possible to repeat the symbolic integration in the *natural coordinates*"
      ]
    },
    {
      "cell_type": "code",
      "metadata": {
        "colab": {
          "base_uri": "https://localhost:8080/",
          "height": 38
        },
        "id": "NZ4pXTz64pCP",
        "outputId": "4212a4d8-6a5d-409f-ab29-fd776e777466"
      },
      "source": [
        "Xi=sym.symbols('Xi')\n",
        "sym.integrate(f_sym(L0(Xi)*a+L1(Xi)*b)*(b-a)/2,[Xi,-1,1])"
      ],
      "execution_count": null,
      "outputs": [
        {
          "output_type": "execute_result",
          "data": {
            "text/latex": "$\\displaystyle - 0.333333333333333 a^{3} + 0.333333333333333 b^{3}$",
            "text/plain": [
              "-0.333333333333333*a**3 + 0.333333333333333*b**3"
            ]
          },
          "metadata": {},
          "execution_count": 8
        }
      ]
    },
    {
      "cell_type": "markdown",
      "metadata": {
        "id": "oa74lLYiGL3k"
      },
      "source": [
        "The Gauss quadrature approximates an integral as\n",
        "\\begin{equation*}\n",
        " \\int_{-1}^{1} f(\\xi) d\\xi \\approx \\sum_{i=1}^N w_i f(\\xi_i)\n",
        "\\end{equation*}\n",
        "and this quadrature gives the exact solution for a polynomial of degree $2N-1$\n",
        "\n",
        "These weights $w_i$ and *natural coordinates* $\\xi_i$ are tabulated and the first three groups are shown in the lists wiGauss and xiGauss at the begining of this notebook.\n",
        "\n",
        "More information about the Gauss-Legendre quadrature can be found elsewhere, every Numerical Analysis textbook will have a chapter devoted to numerical integration. As a quick refrence you can also read the wikipedia entry in the following link https://en.wikipedia.org/wiki/Gaussian_quadrature"
      ]
    },
    {
      "cell_type": "markdown",
      "metadata": {
        "id": "Nmm6Oe-bqii-"
      },
      "source": [
        "To calculate the quadrature it is necessary to explicitely define the integral limits. It should be emphasized that it is a *numerical integration*"
      ]
    },
    {
      "cell_type": "code",
      "metadata": {
        "colab": {
          "base_uri": "https://localhost:8080/"
        },
        "id": "_zqsuPwbGS8O",
        "outputId": "eb8bab6d-66fd-4fa6-d929-c04bf72ce7cb"
      },
      "source": [
        "A=1.0;                                       # Inferior limit for the integration\n",
        "B=5.0;                                       # Superior limit for the integration\n",
        "\n",
        "Isym=sym.integrate(f_sym(x),[x,A,B])         # Integral using the symbolic function\n",
        "\n",
        "N_gauss=3                                   # Define de number of Gauss points to do the numerical integration\n",
        "\n",
        "xGaussCoordinate=np.zeros(N_gauss)                 # Array to store the actual x coordinate used in the quadrature\n",
        "yGaussCoordinate=np.zeros(N_gauss)                 # Array to store the actual f(x) coordinate used in the quadrature\n",
        "Inum=0                                       # Define the variable to store the result\n",
        "for i in range(len(wiGauss[N_gauss-1])):     # Loop over the set of Gauss points\n",
        "  xi=xiGauss[N_gauss-1][i]                   # Temporary variable for xi coordinate (just to make the code more readable)\n",
        "  wi=wiGauss[N_gauss-1][i]                   # Temporary variable for wi weight (just to make the code more readable)\n",
        "  xCoord=L0(xi)*A+L1(xi)*B                   # Actual x coordinate\n",
        "  yCoord=f(xCoord)                           # function evaluated at the xCoord\n",
        "  Inum+=wi*yCoord*(B-A)/2                    # Add the value for this Gauss point\n",
        "  xGaussCoordinate[i]=xCoord                 #\n",
        "  yGaussCoordinate[i]=yCoord                 #\n",
        "\n",
        "print(\"Valor exacto:             \",Isym)                             # Print the result for the symbolic integration\n",
        "print(\"Valor cuadratura de gauss:\",Inum,\"(con\",N_gauss,\"puntos)\")    # Print the result for the numerical integration\n",
        "print(\"Error:                    \",np.abs((Inum-Isym)/Isym*100),\"%\") # Error comparison"
      ],
      "execution_count": null,
      "outputs": [
        {
          "output_type": "stream",
          "name": "stdout",
          "text": [
            "Valor exacto:              41.3333333333333\n",
            "Valor cuadratura de gauss: 41.33333333333333 (con 3 puntos)\n",
            "Error:                     0 %\n"
          ]
        }
      ]
    },
    {
      "cell_type": "code",
      "metadata": {
        "colab": {
          "base_uri": "https://localhost:8080/",
          "height": 279
        },
        "id": "rVAcJugWtJ_2",
        "outputId": "73515c7c-1b43-41e1-ad4a-c853a7c1d6a6"
      },
      "source": [
        "xPlt = np.linspace(A, B, 100)                  # Define a list of even separated points to plot the functions\n",
        "plt.plot(xPlt, f(xPlt), color='red')           # Plot the f(x) function\n",
        "plt.scatter(xGaussCoordinate,yGaussCoordinate) # Plot the points used in the Gauss quadrature\n",
        "plt.xlabel('x')                                # Add the label to the x axis\n",
        "plt.show()                                     # Show the plot"
      ],
      "execution_count": null,
      "outputs": [
        {
          "output_type": "display_data",
          "data": {
            "image/png": "[encoded data removed]",
            "text/plain": [
              "<Figure size 432x288 with 1 Axes>"
            ]
          },
          "metadata": {
            "needs_background": "light"
          }
        }
      ]
    },
    {
      "cell_type": "markdown",
      "metadata": {
        "id": "oKjGbioW1mx2"
      },
      "source": [
        "Another numerical method used to calculate the integral is the trapezoidal rule.\n",
        "\n",
        "This method splits the domain in segmentos of lenght $h$.\n",
        "\\begin{equation*}\n",
        " \\int_a^b f(x)dx \\approx \\sum_{i=1}^{N_s}\\frac{h}{2} (f(x_i)+f(x_{i+1}))\n",
        "\\end{equation*}\n",
        "where $N_s$ is the number of segments"
      ]
    },
    {
      "cell_type": "code",
      "metadata": {
        "id": "qwiZSlU2A9TL",
        "colab": {
          "base_uri": "https://localhost:8080/"
        },
        "outputId": "f3f3a267-a64e-46db-bd7e-33b88d3719c4"
      },
      "source": [
        "Ns=2                            # Define the number of segmentes to use\n",
        "h=(B-A)/Ns                      # Length of the segment to be used in the trapezoidal rule\n",
        "\n",
        "x_trp=np.linspace(A,B,Ns+1)     # Discrete x space \n",
        "f_trp=f(x_trp)                  # Function evaluated at the discrete space points \n",
        "\n",
        "I_trp=0                                   # Variable to store the result\n",
        "for i in range(Ns):                       # Loop over the discrete space\n",
        "  I_trp+=h/2*(f(x_trp[i])+f(x_trp[i+1]))  # Trapezoidal rule\n",
        "\n",
        "print(\"Analytical result:\",Isym)                                        # Print the result for the symbolic integration\n",
        "print(\"Trapezoidal rule: \",I_trp,\"(using\",Ns,\"segments of size\",h,\")\")  # Print the result for the numerical integration\n",
        "print(\"Error:            \",np.abs((I_trp-Isym)/Isym*100),\"%\")           # Error comparison"
      ],
      "execution_count": null,
      "outputs": [
        {
          "output_type": "stream",
          "name": "stdout",
          "text": [
            "Analytical result: 41.3333333333333\n",
            "Trapezoidal rule:  44.0 (using 2 segments of size 2.0 )\n",
            "Error:             6.45161290322582 %\n"
          ]
        }
      ]
    },
    {
      "cell_type": "code",
      "metadata": {
        "colab": {
          "base_uri": "https://localhost:8080/",
          "height": 279
        },
        "id": "XKIQrY6p1hIw",
        "outputId": "04e45e52-2e24-4b77-ec9a-0f7a2936199c"
      },
      "source": [
        "xPlt = np.linspace(A, B, 100)                  # Define a list of even separated points to plot the functions\n",
        "plt.plot(xPlt, f(xPlt), color='red')           # Plot the f(x) function\n",
        "plt.fill_between(x_trp,0,f_trp,color='lightblue')                       # Plot the points used in the Gauss quadrature\n",
        "plt.scatter(x_trp,f_trp)                       # Plot the points used in the Gauss quadrature\n",
        "plt.xlabel('x')                                # Add the label to the x axis\n",
        "plt.show()                                     # Show the plot"
      ],
      "execution_count": null,
      "outputs": [
        {
          "output_type": "display_data",
          "data": {
            "image/png": "[encoded data removed]",
            "text/plain": [
              "<Figure size 432x288 with 1 Axes>"
            ]
          },
          "metadata": {
            "needs_background": "light"
          }
        }
      ]
    },
    {
      "cell_type": "code",
      "metadata": {
        "id": "YDcs3lw29oUs"
      },
      "source": [
        ""
      ],
      "execution_count": null,
      "outputs": []
    }
  ]
}