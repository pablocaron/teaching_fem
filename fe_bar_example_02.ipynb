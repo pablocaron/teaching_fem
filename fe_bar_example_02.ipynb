{
  "nbformat": 4,
  "nbformat_minor": 0,
  "metadata": {
    "colab": {
      "name": "fe_bar_example_02.ipynb",
      "provenance": [],
      "collapsed_sections": [],
      "authorship_tag": "ABX9TyOi5LddUSepItuoH+p3ZbWP",
      "include_colab_link": true
    },
    "kernelspec": {
      "name": "python3",
      "display_name": "Python 3"
    },
    "language_info": {
      "name": "python"
    }
  },
  "cells": [
    {
      "cell_type": "markdown",
      "metadata": {
        "id": "view-in-github",
        "colab_type": "text"
      },
      "source": [
        "<a href=\"https://colab.research.google.com/github/pablocaron/teaching_fem/blob/main/fe_bar_example_02.ipynb\" target=\"_parent\"><img src=\"https://colab.research.google.com/assets/colab-badge.svg\" alt=\"Open In Colab\"/></a>"
      ]
    },
    {
      "cell_type": "markdown",
      "metadata": {
        "id": "DgyxmN07ulqL"
      },
      "source": [
        "# Setup & definition of functions"
      ]
    },
    {
      "cell_type": "markdown",
      "metadata": {
        "id": "nTM37DZ5FaML"
      },
      "source": [
        "In the following lines we import the packages to do the numerical calculations and the plots."
      ]
    },
    {
      "cell_type": "code",
      "metadata": {
        "id": "CdDqYzEKutEz"
      },
      "source": [
        "import numpy as np\n",
        "import matplotlib.pyplot as plt"
      ],
      "execution_count": 1,
      "outputs": []
    },
    {
      "cell_type": "markdown",
      "metadata": {
        "id": "DMiai5bfvVtc"
      },
      "source": [
        "Custom functions for this notebook."
      ]
    },
    {
      "cell_type": "code",
      "metadata": {
        "id": "PCCkx2nJvf8D"
      },
      "source": [
        "def Kbarra2D(E,A,x0,x1,y0,y1):\n",
        "  \"\"\"Function to calculate the stiffness matrix for a two dimensional bar element with constant properties.\n",
        "  \n",
        "  Kbarra2D(E,A,x0,x1,y0,y1):\n",
        "  E:     Young's modulus\n",
        "  A:     Element's area\n",
        "  x0: First node's x coordinate\n",
        "  y0: First node's y coordinate\n",
        "  x1: Second node's x coordinate\n",
        "  y1: Second node's y coordinate\n",
        "  \"\"\"\n",
        "  L=np.sqrt((x1-x0)**2+(y1-y0)**2)     # Length of the element\n",
        "  c=  (x1-x0)/L                        # cosine(beta) where beta is the angle between the axis of the element and the x axis\n",
        "  s=  (y1-y0)/L                        # sine(beta)   where beta is the angle between the axis of the element and the x axis\n",
        "  c2= c**2                             # squared cosine(beta)\n",
        "  s2= s**2                             # squared sine(beta)\n",
        "  cs= c*s                              # product between cosine(beta) and sine(beta)\n",
        "  return np.array([[c2,cs,-c2,-cs],[cs,s2,-cs,-s2],[-c2,-cs,c2,cs],[-cs,-s2,cs,s2]])*(E*A)/L\n",
        "\n",
        "#def Fctebarra1D(q,L):                  # This function must be adapted to the 2D bar\n",
        "#  return np.array([[q*L/2],[q*L/2]])\n",
        "\n",
        "def assembleK(klocal,kglobal,conec):\n",
        "  \"\"\"\n",
        "  Function to assemble the local matrix klocal into the kglobal matrix following the conectivity conec\n",
        "\n",
        "  This function assumes that the matrices have the correct dimensions.\n",
        "  klocal:  Local matrix of the assembled element\n",
        "  kglobal: Global matrix\n",
        "  conec:   conectivity matrix for the assembled element\n",
        "  \"\"\"\n",
        "  klocalsize=np.shape(klocal)\n",
        "  for i in range(klocalsize[1]):\n",
        "    for j in range(klocalsize[1]):\n",
        "      kglobal[conec[i],conec[j]]+=klocal[i,j]\n",
        "  return kglobal\n",
        "\n",
        "def assembleF(flocal,fglobal,conec):\n",
        "  \"\"\"\n",
        "  Function to assemble the local vector flocal into the global vector fglobal following the conectivity conec\n",
        "\n",
        "  This function assumes that the matrices have the correct dimensions.\n",
        "  flocal:  Local vector of the assembled element\n",
        "  fglobal: Global vector\n",
        "  conec:   conectivity matrix for the assembled element\n",
        "  \"\"\"\n",
        "  flocalsize=np.shape(flocal)\n",
        "  for i in range(flocalsize[0]):\n",
        "    fglobal[conec[i]]+=flocal[i,0]\n",
        "  return fglobal"
      ],
      "execution_count": 2,
      "outputs": []
    },
    {
      "cell_type": "markdown",
      "metadata": {
        "id": "FKSv0yiIGAF5"
      },
      "source": [
        "# Problem to solve"
      ]
    },
    {
      "cell_type": "markdown",
      "metadata": {
        "id": "LKZKi8ax95RQ"
      },
      "source": [
        "## Material and geometrical properties\n",
        "The three elements have the same properties which are listed below:"
      ]
    },
    {
      "cell_type": "code",
      "metadata": {
        "colab": {
          "base_uri": "https://localhost:8080/"
        },
        "id": "E_2faKt7-UOA",
        "outputId": "74f569a4-6b42-47e0-ca6a-8bf2dbfe7d2a"
      },
      "source": [
        "Eyoung=210000                                  # Young modulus [N/mm^2]\n",
        "De=12.7                                        # External diameter of the bar [mm]\n",
        "Di=10.7                                        # Internal diameter of the bar [mm]\n",
        "A=np.pi*(De**2-Di**2)/4                        # Bar's area\n",
        "print(\"The are of the bar is %.2f [mm^2]\"% A)  # Print the Bar's area for further use\n",
        "P=-1000                                        # External applied load [N]\n",
        "beta=30                                        # Angle of the support at node 2\n",
        "a=np.tan(30*np.pi/180)                         # Slope of the support at node 2"
      ],
      "execution_count": 3,
      "outputs": [
        {
          "output_type": "stream",
          "name": "stdout",
          "text": [
            "The are of the bar is 36.76 [mm^2]\n"
          ]
        }
      ]
    },
    {
      "cell_type": "markdown",
      "metadata": {
        "id": "qlc10waZHTwu"
      },
      "source": [
        "## Topological description\n",
        "The coordinates of the nodes are stored in the following array:"
      ]
    },
    {
      "cell_type": "code",
      "metadata": {
        "id": "krqK0dopHS-0"
      },
      "source": [
        "coord=np.array([[0,0],[1000,0],[500,700]])"
      ],
      "execution_count": 4,
      "outputs": []
    },
    {
      "cell_type": "markdown",
      "metadata": {
        "id": "4_akwx8-IlYp"
      },
      "source": [
        "The conectivity of each elements is stored in the following array"
      ]
    },
    {
      "cell_type": "code",
      "metadata": {
        "id": "h2acIvPKIqMN"
      },
      "source": [
        "conectivity=np.array([[0,1,2,3],[2,3,4,5],[4,5,0,1]])"
      ],
      "execution_count": 5,
      "outputs": []
    },
    {
      "cell_type": "markdown",
      "metadata": {
        "id": "BVNdZpyIvpTJ"
      },
      "source": [
        "# Solution"
      ]
    },
    {
      "cell_type": "markdown",
      "metadata": {
        "id": "5npwG8dxIl5x"
      },
      "source": [
        "## Global problem to solve"
      ]
    },
    {
      "cell_type": "markdown",
      "metadata": {
        "id": "BXA62ouZHkYQ"
      },
      "source": [
        "First we create the stiffness matrix for each element"
      ]
    },
    {
      "cell_type": "code",
      "metadata": {
        "id": "i8PDMo9SHyID"
      },
      "source": [
        "k0=Kbarra2D(Eyoung,A,coord[0,0],coord[1,0],coord[0,1],coord[1,1])\n",
        "k1=Kbarra2D(Eyoung,A,coord[1,0],coord[2,0],coord[1,1],coord[2,1])\n",
        "k2=Kbarra2D(Eyoung,A,coord[2,0],coord[0,0],coord[2,1],coord[0,1])"
      ],
      "execution_count": 6,
      "outputs": []
    },
    {
      "cell_type": "markdown",
      "metadata": {
        "id": "UAyDZ5pcH23s"
      },
      "source": [
        "Second we assemble these matrices into the global stiffness matrix"
      ]
    },
    {
      "cell_type": "code",
      "metadata": {
        "id": "6dTG77v8vrPo"
      },
      "source": [
        "Ndof=np.max(conectivity)+1            # This is the number of degrees of freedom in the system.\n",
        "KG=np.zeros([Ndof,Ndof])              # Initialize the global stiffness matrix with zeros\n",
        "\n",
        "KG=assembleK(k0,KG,conectivity[0])    # Assemble the first element in the global matrix\n",
        "KG=assembleK(k1,KG,conectivity[1])    # Assemble the second element in the global matrix\n",
        "KG=assembleK(k2,KG,conectivity[2])    # Assemble the third element in the global matrix\n",
        "#print(KG)                             # This is to check the global matrix"
      ],
      "execution_count": 7,
      "outputs": []
    },
    {
      "cell_type": "markdown",
      "metadata": {
        "id": "GZB0GgOgVeAE"
      },
      "source": [
        "The vector of the applied loads is the following:\n",
        "\n",
        "(For simplicity is filled *by hand*)"
      ]
    },
    {
      "cell_type": "code",
      "metadata": {
        "id": "eHKhjuWkViXB"
      },
      "source": [
        "FG=np.array([[0],[0],[0],[0],[0],[P]])\n",
        "#print(FG)                               # This is to check the global vector"
      ],
      "execution_count": 8,
      "outputs": []
    },
    {
      "cell_type": "markdown",
      "metadata": {
        "id": "c4grMlLCIuDl"
      },
      "source": [
        "## Apply the restriction to node 1\n",
        "\n",
        "NOTE: The following strategy to include the restrictions follows the NASTRAN theoretical manual SP-221."
      ]
    },
    {
      "cell_type": "markdown",
      "metadata": {
        "id": "Zv_krn1txNvx"
      },
      "source": [
        "The displacements in this node are $u_2$ and $u_3$ and they are related in a way that a combination of them produce slip in the desired direction.\n",
        "\n",
        "In the present problem we chose the $u_3$ as the *dependent* \n",
        "\n",
        "The list of dependent an independent displacement are idenfied as *m* and *n*, respectively"
      ]
    },
    {
      "cell_type": "code",
      "metadata": {
        "id": "v68ccgDDMM0v"
      },
      "source": [
        "dofm=[3]                   # Degrees of freedom chosen as dependent \n",
        "dofn=[0,1,2,4,5]           # Degrees of freedom chosen as inddependent "
      ],
      "execution_count": 9,
      "outputs": []
    },
    {
      "cell_type": "code",
      "metadata": {
        "id": "yXZDGvYUKWGL"
      },
      "source": [
        "Knn=KG[np.ix_(dofn,dofn)]  # Submatrix extraction for the independent dof\n",
        "Knm=KG[np.ix_(dofn,dofm)]  # Submatrix extraction for the mixed dof\n",
        "Kmm=KG[np.ix_(dofm,dofm)]  # Submatrix extraction for the dependent dof\n",
        "Pn=FG[np.ix_(dofn,[0])]    # Subvector extraction for the independent dof\n",
        "Pm=FG[np.ix_(dofm,[0])]    # Subvector extraction for the dependent dof"
      ],
      "execution_count": 10,
      "outputs": []
    },
    {
      "cell_type": "markdown",
      "metadata": {
        "id": "Cz7cpEYyPJ-D"
      },
      "source": [
        "The restriction between DOF (displacements) 2 and 3 can be writen as:\n",
        "\\begin{equation*}\n",
        " u_3 - a\\ u_2=0\n",
        "\\end{equation*}\n",
        "where $a$ is the slope of the line which define the slip direction in node 1\n",
        "\n",
        "This expression can be rewriten using the global dof\n",
        "\n",
        "\\begin{equation*}\n",
        " \\underbrace{\n",
        " \\begin{bmatrix}\n",
        "  0 & 0 & -a & 1 & 0 & 0\n",
        " \\end{bmatrix}}_{[R]}\n",
        " \\begin{Bmatrix}\n",
        "  u_0\\\\u_1\\\\u_2\\\\u_3\\\\u_4\\\\u_5\n",
        " \\end{Bmatrix}\n",
        " = 0\n",
        "\\end{equation*}\n",
        "Then, we divide the system in the dependent and independent parts as:\n",
        "\\begin{equation*}\n",
        " \\underbrace{\n",
        " \\begin{bmatrix}\n",
        "  0 & 0 & -a & 0 & 0\n",
        " \\end{bmatrix}}_{[R_n]}\n",
        " \\begin{Bmatrix}\n",
        "  u_0\\\\ u_1\\\\ u_2\\\\ u_4\\\\ u_5\\\\\n",
        " \\end{Bmatrix}\n",
        " +\n",
        " \\underbrace{\n",
        " \\begin{bmatrix}\n",
        "  1\n",
        " \\end{bmatrix}}_{[R_m]}\n",
        " \\begin{Bmatrix}\n",
        "  u_3\n",
        " \\end{Bmatrix}\n",
        " =0\n",
        "\\end{equation*}\n",
        "Again, and to resemble the expresions found in the NASTRAN theoretical manual, we find the matrix $[G_m]$\n",
        "\\begin{align*}\n",
        " [G_m]&=-[R_m]^{-1}[R_n]\\\\\n",
        " [G_m]&=-\\frac{1}{1}\\begin{bmatrix}\n",
        "  0 & 0 & -a & 0 & 0\n",
        " \\end{bmatrix}\\\\\n",
        " [G_m]&=\\begin{bmatrix}\n",
        "  0 & 0 & a & 0 & 0\n",
        " \\end{bmatrix}\n",
        "\\end{align*}"
      ]
    },
    {
      "cell_type": "markdown",
      "metadata": {
        "id": "sLFieFpyQcOv"
      },
      "source": [
        "The matrix $[G_m]$ is then"
      ]
    },
    {
      "cell_type": "code",
      "metadata": {
        "id": "hpMUGAeLzmr5"
      },
      "source": [
        "Gm=np.array([[0,0,a,0,0]])\n",
        "#print(Gm)"
      ],
      "execution_count": 11,
      "outputs": []
    },
    {
      "cell_type": "markdown",
      "metadata": {
        "id": "if7P6Yx4tMnW"
      },
      "source": [
        "We also define the $[R]$ matrix for further use"
      ]
    },
    {
      "cell_type": "code",
      "metadata": {
        "id": "PQeBcBxhudSN"
      },
      "source": [
        "Rm=np.array([[0,0,-a,1,0,0]])"
      ],
      "execution_count": 12,
      "outputs": []
    },
    {
      "cell_type": "markdown",
      "metadata": {
        "id": "LVGPC2Tao9cc"
      },
      "source": [
        "Then, the system of equations which include the restrictions are\n",
        "\\begin{equation*}\n",
        " \\left([K_{nn}] +[K_{nm}][G_m]+[G_m]^T[K_{nm}]^T+[G_m]^T[K_{mm}][G_m]\\right)\n",
        " \\{ u_n\\}=\\{P_n\\}+[G_m]^T{P_m}\n",
        "\\end{equation*}\n",
        "where\n",
        "\\begin{equation*}\n",
        "\\{u_n\\}=\n",
        "\\begin{Bmatrix}\n",
        " u_0\\\\ u_1 \\\\ u_2 \\\\ u_4 \\\\ u_5\n",
        " \\end{Bmatrix}\n",
        "\\end{equation*}\n",
        "and we define the *reduced* matrices and vectors as\n",
        "\\begin{align*}\n",
        " [K^r]&=[K_{nn}] +[K_{nm}][G_m]+[G_m]^T[K_{nm}]^T+[G_m]^T[K_{mm}][G_m] \\\\\n",
        " \\{P^r\\}&=\\{P_n\\}+[G_m]^T{P_m}\n",
        "\\end{align*}"
      ]
    },
    {
      "cell_type": "code",
      "metadata": {
        "id": "IT4xpinYKlpr"
      },
      "source": [
        "Kr=Knn+np.matmul(Knm,Gm)+np.matmul(np.transpose(Gm),np.transpose(Knm))+np.matmul(np.matmul(np.transpose(Gm),Kmm),Gm)\n",
        "#print(Kr)"
      ],
      "execution_count": 13,
      "outputs": []
    },
    {
      "cell_type": "code",
      "metadata": {
        "id": "0VZPooRXr4ZD"
      },
      "source": [
        "Pr=Pn+np.matmul(np.transpose(Gm),Pm)\n",
        "#print(Pr)"
      ],
      "execution_count": 14,
      "outputs": []
    },
    {
      "cell_type": "markdown",
      "metadata": {
        "id": "RDbLzq21shOs"
      },
      "source": [
        "## Solution of the reduced system\n",
        "To solve the reduced system of equation we must include the boundary conditions to the DOFs $u_0$ and $u_1$.\n",
        "\n",
        "The procedure follows the usual strategy that we use in the problems with degrees of freedom constrained aligned with the coordinates system.\n",
        "\n",
        "First we define the set of dof to be eliminated from the system $s$ and which will not be eliminated $f$."
      ]
    },
    {
      "cell_type": "code",
      "metadata": {
        "id": "vFNgiPGTSOWR"
      },
      "source": [
        "dofs=[0,1]\n",
        "doff=[2,3,4]"
      ],
      "execution_count": 15,
      "outputs": []
    },
    {
      "cell_type": "code",
      "metadata": {
        "id": "HBNp26W6tDeO"
      },
      "source": [
        "Kss=Kr[np.ix_(dofs,dofs)]\n",
        "Ksf=Kr[np.ix_(dofs,doff)]\n",
        "Kfs=Kr[np.ix_(doff,dofs)]\n",
        "Kff=Kr[np.ix_(doff,doff)]\n",
        "Ps=Pr[np.ix_(dofs,[0])]\n",
        "Pf=Pr[np.ix_(doff,[0])]"
      ],
      "execution_count": 16,
      "outputs": []
    },
    {
      "cell_type": "markdown",
      "metadata": {
        "id": "1so956XIStPY"
      },
      "source": [
        "The solution for the $f$ set of degrees of freedom is"
      ]
    },
    {
      "cell_type": "code",
      "metadata": {
        "colab": {
          "base_uri": "https://localhost:8080/"
        },
        "id": "C63SPGyCtZfH",
        "outputId": "5c670c1f-d053-490d-fd7b-efd86b1c2f54"
      },
      "source": [
        "uf=np.matmul(np.linalg.inv(Kff),Pf)\n",
        "print(uf)"
      ],
      "execution_count": 17,
      "outputs": [
        {
          "output_type": "stream",
          "name": "stdout",
          "text": [
            "[[ 0.00887015]\n",
            " [ 0.00085025]\n",
            " [-0.08475971]]\n"
          ]
        }
      ]
    },
    {
      "cell_type": "markdown",
      "metadata": {
        "id": "hE-QJvwvS4wl"
      },
      "source": [
        "We now can reconstruct the set of *independent* degrees of freedom"
      ]
    },
    {
      "cell_type": "code",
      "metadata": {
        "colab": {
          "base_uri": "https://localhost:8080/"
        },
        "id": "bosc5RNcUxWk",
        "outputId": "2e06bc8e-7236-4db5-d241-f2ac66b3fb30"
      },
      "source": [
        "usf=np.zeros([5,1])           # Create a array to store the free degrees of freedom\n",
        "usf[doff]=uf                  # Store the f set of degrees of freedom\n",
        "print(usf)"
      ],
      "execution_count": 18,
      "outputs": [
        {
          "output_type": "stream",
          "name": "stdout",
          "text": [
            "[[ 0.        ]\n",
            " [ 0.        ]\n",
            " [ 0.00887015]\n",
            " [ 0.00085025]\n",
            " [-0.08475971]]\n"
          ]
        }
      ]
    },
    {
      "cell_type": "markdown",
      "metadata": {
        "id": "W3vR071uTVrn"
      },
      "source": [
        "The reaction at the $s$ set of degrees of freedom are"
      ]
    },
    {
      "cell_type": "code",
      "metadata": {
        "colab": {
          "base_uri": "https://localhost:8080/"
        },
        "id": "GUsNqPPitcA3",
        "outputId": "6e497ae3-fb0f-4d5c-9422-be962b1a8960"
      },
      "source": [
        "qs=-Ps+np.matmul(np.transpose(Kfs),uf)\n",
        "print(qs)"
      ],
      "execution_count": 19,
      "outputs": [
        {
          "output_type": "stream",
          "name": "stdout",
          "text": [
            "[[288.67513459]\n",
            " [500.        ]]\n"
          ]
        }
      ]
    },
    {
      "cell_type": "markdown",
      "metadata": {
        "id": "WdcMRyq1Tjp_"
      },
      "source": [
        "## Solution for the dependent DOF\n",
        "From the previous dependent set of degrees of freedom ($u_{sf}$) we can recover the solution for the *dependent* degree of freedom"
      ]
    },
    {
      "cell_type": "code",
      "metadata": {
        "colab": {
          "base_uri": "https://localhost:8080/"
        },
        "id": "i2GJlBQPUOqh",
        "outputId": "b0108182-b393-4e29-e066-f8f882c26892"
      },
      "source": [
        "um=np.matmul(Gm,usf)\n",
        "print(um)"
      ],
      "execution_count": 20,
      "outputs": [
        {
          "output_type": "stream",
          "name": "stdout",
          "text": [
            "[[0.00512118]]\n"
          ]
        }
      ]
    },
    {
      "cell_type": "markdown",
      "metadata": {
        "id": "ARe6E7mushNF"
      },
      "source": [
        "Also, we can find the reaction at the *dependent* degree of freedom"
      ]
    },
    {
      "cell_type": "code",
      "metadata": {
        "colab": {
          "base_uri": "https://localhost:8080/"
        },
        "id": "9YNg4_bJdgH7",
        "outputId": "f9105e2e-3866-48b9-9cca-93e4243d65c8"
      },
      "source": [
        "qm=-Pm+np.matmul(np.transpose(Knm),usf)+np.matmul(np.matmul(Kmm,Gm),usf)\n",
        "print(qm)"
      ],
      "execution_count": 21,
      "outputs": [
        {
          "output_type": "stream",
          "name": "stdout",
          "text": [
            "[[500.]]\n"
          ]
        }
      ]
    },
    {
      "cell_type": "markdown",
      "metadata": {
        "id": "IqBL0CHBecW7"
      },
      "source": [
        "## Complet solution\n",
        "We can now write the complete vector of degrees of freedom"
      ]
    },
    {
      "cell_type": "code",
      "metadata": {
        "id": "8BPUZpEsezA3"
      },
      "source": [
        "desp=np.zeros([Ndof,1])        # Create vector with zeros to store the complete solution"
      ],
      "execution_count": 22,
      "outputs": []
    },
    {
      "cell_type": "code",
      "metadata": {
        "colab": {
          "base_uri": "https://localhost:8080/"
        },
        "id": "89E93HzhfAwv",
        "outputId": "679736eb-b647-4d51-f574-f6a5bd831e7b"
      },
      "source": [
        "desp[dofn]=usf                 # Store the independent degrees of freedom\n",
        "desp[dofm]=um                  # Store the dependent degrees of freedom\n",
        "print(desp)"
      ],
      "execution_count": 23,
      "outputs": [
        {
          "output_type": "stream",
          "name": "stdout",
          "text": [
            "[[ 0.        ]\n",
            " [ 0.        ]\n",
            " [ 0.00887015]\n",
            " [ 0.00512118]\n",
            " [ 0.00085025]\n",
            " [-0.08475971]]\n"
          ]
        }
      ]
    },
    {
      "cell_type": "markdown",
      "metadata": {
        "id": "C-rrZjYceRUK"
      },
      "source": [
        "## Plot the results"
      ]
    },
    {
      "cell_type": "code",
      "metadata": {
        "colab": {
          "base_uri": "https://localhost:8080/",
          "height": 282
        },
        "id": "G0nZlJYATS0V",
        "outputId": "0e5aafbb-3bbc-4bf3-b394-d2efb4949920"
      },
      "source": [
        "xOrig=coord[:,0]                                             # Extract the x coordinates from the coordinates data\n",
        "yOrig=coord[:,1]                                             # Extract the y coordinates from the coordinates data\n",
        "scale=5000                                                   # Scale factor to enlarge the results\n",
        "xDef=coord[:,0]+desp[[0,2,4],0]*scale                        # Deformed x position of the nodes\n",
        "yDef=coord[:,1]+desp[[1,3,5],0]*scale                        # Deformed y position of the nodes\n",
        "\n",
        "xSupport=np.array([coord[1,0]*0.9,coord[1,0],coord[1,0]*1.1])        # Vector to draw the support at node 2 (x coordinate) \n",
        "ySupport=np.array([coord[1,0]*(-0.1)*a,coord[1,1],coord[1,0]*0.1*a]) # Vector to draw the support at node 2 (y coordinate) \n",
        "\n",
        "plt.plot(xSupport,ySupport,color='black')\n",
        "xOrigPlt=np.concatenate((xOrig,np.array([xOrig[0]])))        # Include the last point's x coordinate to plot the elements with lines\n",
        "yOrigPlt=np.concatenate((yOrig,np.array([yOrig[0]])))        # Include the last point's y coordinate to plot the elements with lines\n",
        "xDefPlt=np.concatenate((xDef,np.array([xDef[0]])))           # Include the last point's x coordinate to plot the elements with lines\n",
        "yDefPlt=np.concatenate((yDef,np.array([yDef[0]])))           # Include the last point's y coordinate to plot the elements with lines\n",
        "plt.scatter(xOrig,yOrig)                                     # Plot the nodes at their original positions\n",
        "plt.scatter(xDef,yDef)                                       # Plot the nodes at their deformed positions\n",
        "plt.plot(xOrigPlt,yOrigPlt)                                  # Plot the elements (lines) at their original positions\n",
        "plt.plot(xDefPlt,yDefPlt)                                    # Plot the elements (lines) at their final positions\n",
        "\n",
        "plt.axis('equal')\n",
        "plt.text(500, 50, 'Deformed position scaled by %i' % (scale), ha='center')\n",
        "plt.show                                                     # Show the plot"
      ],
      "execution_count": 24,
      "outputs": [
        {
          "output_type": "execute_result",
          "data": {
            "text/plain": [
              "<function matplotlib.pyplot.show>"
            ]
          },
          "metadata": {},
          "execution_count": 24
        },
        {
          "output_type": "display_data",
          "data": {
            "image/png": "[encoded data removed]",
            "text/plain": [
              "<Figure size 432x288 with 1 Axes>"
            ]
          },
          "metadata": {
            "needs_background": "light"
          }
        }
      ]
    },
    {
      "cell_type": "markdown",
      "metadata": {
        "id": "eE452GsOXOwI"
      },
      "source": [
        "## Reactions"
      ]
    },
    {
      "cell_type": "markdown",
      "metadata": {
        "id": "FLTnPcdaXVi2"
      },
      "source": [
        "Reactions at the $s$ set of DOFs"
      ]
    },
    {
      "cell_type": "code",
      "metadata": {
        "colab": {
          "base_uri": "https://localhost:8080/"
        },
        "id": "8ROUY4qcWK6j",
        "outputId": "b86a1d90-ad1c-454b-fa74-e80cc40af99c"
      },
      "source": [
        "Rtot=np.zeros([Ndof,1])\n",
        "Rtot[dofs]=Rtot[dofs]+qs\n",
        "print(Rtot)"
      ],
      "execution_count": 25,
      "outputs": [
        {
          "output_type": "stream",
          "name": "stdout",
          "text": [
            "[[288.67513459]\n",
            " [500.        ]\n",
            " [  0.        ]\n",
            " [  0.        ]\n",
            " [  0.        ]\n",
            " [  0.        ]]\n"
          ]
        }
      ]
    },
    {
      "cell_type": "markdown",
      "metadata": {
        "id": "h6ihNxAaXbsM"
      },
      "source": [
        "Reactions at the $m$ set of dependent DOFs"
      ]
    },
    {
      "cell_type": "code",
      "metadata": {
        "colab": {
          "base_uri": "https://localhost:8080/"
        },
        "id": "3bjohzw9XucU",
        "outputId": "dc2751ac-f32a-425a-a8f1-82f1959275b0"
      },
      "source": [
        "qmtot=np.matmul(np.transpose(Rm),qm)\n",
        "Rtot+=qmtot\n",
        "print(Rtot)"
      ],
      "execution_count": 26,
      "outputs": [
        {
          "output_type": "stream",
          "name": "stdout",
          "text": [
            "[[ 288.67513459]\n",
            " [ 500.        ]\n",
            " [-288.67513459]\n",
            " [ 500.        ]\n",
            " [   0.        ]\n",
            " [   0.        ]]\n"
          ]
        }
      ]
    },
    {
      "cell_type": "markdown",
      "metadata": {
        "id": "WgOz70Wez3R5"
      },
      "source": [
        "We split the previous vectors in each direction"
      ]
    },
    {
      "cell_type": "code",
      "metadata": {
        "id": "9tEdhsnMw9zE"
      },
      "source": [
        "Rtotx=Rtot[[0,2,4]]     # Reactions in the x direction\n",
        "Rtoty=Rtot[[1,3,5]]     # Reactions in the y direction"
      ],
      "execution_count": 27,
      "outputs": []
    },
    {
      "cell_type": "code",
      "metadata": {
        "id": "7Szl5ed-Wt82"
      },
      "source": [
        "FGx=FG[[0,2,4]]         # Applied forces the x direction\n",
        "FGy=FG[[1,3,5]]         # Applied forces the y direction"
      ],
      "execution_count": 28,
      "outputs": []
    },
    {
      "cell_type": "markdown",
      "metadata": {
        "id": "5gfMaPnAzGy2"
      },
      "source": [
        "We check the sum of forces in each direction"
      ]
    },
    {
      "cell_type": "code",
      "metadata": {
        "id": "HEerIawJXkN-",
        "colab": {
          "base_uri": "https://localhost:8080/"
        },
        "outputId": "f1bf597f-e6d7-4442-d199-9289d8695412"
      },
      "source": [
        "np.sum(Rtotx+FGx)      # Sum of forces in the x direction"
      ],
      "execution_count": 29,
      "outputs": [
        {
          "output_type": "execute_result",
          "data": {
            "text/plain": [
              "0.0"
            ]
          },
          "metadata": {},
          "execution_count": 29
        }
      ]
    },
    {
      "cell_type": "code",
      "metadata": {
        "colab": {
          "base_uri": "https://localhost:8080/"
        },
        "id": "MexoBs5BxW47",
        "outputId": "5808133d-01a5-43cc-8f3d-406d515c5056"
      },
      "source": [
        "np.sum(Rtoty+FGy)      # Sum of forces in the y direction"
      ],
      "execution_count": 30,
      "outputs": [
        {
          "output_type": "execute_result",
          "data": {
            "text/plain": [
              "0.0"
            ]
          },
          "metadata": {},
          "execution_count": 30
        }
      ]
    },
    {
      "cell_type": "code",
      "metadata": {
        "id": "8Sw4vPYBzdmm"
      },
      "source": [
        ""
      ],
      "execution_count": 30,
      "outputs": []
    }
  ]
}