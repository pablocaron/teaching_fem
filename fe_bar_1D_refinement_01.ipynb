{
  "nbformat": 4,
  "nbformat_minor": 0,
  "metadata": {
    "colab": {
      "name": "fe_bar_1D_refinement_01.ipynb",
      "provenance": [],
      "collapsed_sections": [],
      "authorship_tag": "ABX9TyOCApSlGA8oUMyCl0MRmH3+",
      "include_colab_link": true
    },
    "kernelspec": {
      "name": "python3",
      "display_name": "Python 3"
    },
    "language_info": {
      "name": "python"
    }
  },
  "cells": [
    {
      "cell_type": "markdown",
      "metadata": {
        "id": "view-in-github",
        "colab_type": "text"
      },
      "source": [
        "<a href=\"https://colab.research.google.com/github/pablocaron/teaching_fem/blob/main/fe_bar_1D_refinement_01.ipynb\" target=\"_parent\"><img src=\"https://colab.research.google.com/assets/colab-badge.svg\" alt=\"Open In Colab\"/></a>"
      ]
    },
    {
      "cell_type": "markdown",
      "metadata": {
        "id": "DgyxmN07ulqL"
      },
      "source": [
        "# Setup & definition of functions"
      ]
    },
    {
      "cell_type": "markdown",
      "metadata": {
        "id": "nTM37DZ5FaML"
      },
      "source": [
        "In the following lines we import the necessary packages to do the numerical calculations and the plots."
      ]
    },
    {
      "cell_type": "code",
      "metadata": {
        "id": "CdDqYzEKutEz"
      },
      "source": [
        "import numpy as np\n",
        "import matplotlib.pyplot as plt\n",
        "import scipy.integrate as integrate\n",
        "import scipy.interpolate as interpolate"
      ],
      "execution_count": 1,
      "outputs": []
    },
    {
      "cell_type": "markdown",
      "metadata": {
        "id": "DMiai5bfvVtc"
      },
      "source": [
        "Custom functions for this notebook."
      ]
    },
    {
      "cell_type": "code",
      "metadata": {
        "id": "PCCkx2nJvf8D"
      },
      "source": [
        "def Kbar1D(E,A,x0,x1):\n",
        "  \"\"\"Function to calculate the stiffness matrix for a one dimensional bar element with constant properties.\n",
        "  \n",
        "  Kbarra2D(E,A,x0,x1):\n",
        "  E:     Young's modulus\n",
        "  A:     Element's area\n",
        "  x0: First  node's x coordinate\n",
        "  x1: Second node's x coordinate\n",
        "  \"\"\"\n",
        "  L=np.abs(x1-x0)     # Length of the element\n",
        "  k=E*A/L             # Stiffness of the bar\n",
        "\n",
        "  return np.array([[k,-k],[-k,k]])\n",
        "\n",
        "def Fbar1D_f(f,x0,x1):\n",
        "  \"\"\"Function to calculate the force vector due to a load distribution f(x)\n",
        "  \n",
        "  Fbar1D_f(f,x0,x1):\n",
        "  f:  function to describe the load distribution\n",
        "  x0: First  node's x coordinate\n",
        "  x1: Second node's x coordinate \n",
        "  \"\"\"\n",
        "  F1=integrate.quad(lambda x: f(x)*(x-x1)/(x0-x1),x0,x1)[0] # Force distribution weighted with the first Lagrange function\n",
        "  F2=integrate.quad(lambda x: f(x)*(x-x0)/(x1-x0),x0,x1)[0] # Force distribution weighted with the second Lagrange function\n",
        "  return np.array([[F1],[F2]])\n",
        "\n",
        "\n",
        "\n",
        "def assembleK(klocal,kglobal,conec):\n",
        "  \"\"\"\n",
        "  Function to assemble the local matrix klocal into the kglobal matrix following the conectivity conec\n",
        "\n",
        "  This function assumes that the matrices have the correct dimensions.\n",
        "  klocal:  Local matrix of the assembled element\n",
        "  kglobal: Global matrix\n",
        "  conec:   conectivity matrix for the assembled element\n",
        "  \"\"\"\n",
        "  klocalsize=np.shape(klocal)\n",
        "  for i in range(klocalsize[1]):\n",
        "    for j in range(klocalsize[1]):\n",
        "      kglobal[conec[i],conec[j]]+=klocal[i,j]\n",
        "  return kglobal\n",
        "\n",
        "def assembleF(flocal,fglobal,conec):\n",
        "  \"\"\"\n",
        "  Function to assemble the local vector flocal into the global vector fglobal following the conectivity conec\n",
        "\n",
        "  This function assumes that the matrices have the correct dimensions.\n",
        "  flocal:  Local vector of the assembled element\n",
        "  fglobal: Global vector\n",
        "  conec:   conectivity matrix for the assembled element\n",
        "  \"\"\"\n",
        "  flocalsize=np.shape(flocal)\n",
        "  for i in range(flocalsize[0]):\n",
        "    fglobal[conec[i]]+=flocal[i,0]\n",
        "  return fglobal"
      ],
      "execution_count": 2,
      "outputs": []
    },
    {
      "cell_type": "markdown",
      "metadata": {
        "id": "FKSv0yiIGAF5"
      },
      "source": [
        "# Problem to solve"
      ]
    },
    {
      "cell_type": "markdown",
      "metadata": {
        "id": "LKZKi8ax95RQ"
      },
      "source": [
        "## PDE for a bar problem\n",
        "The partial differential equation for a one dimensional bar is\n",
        "$$\n",
        "\\frac{\\partial}{\\partial x} \\left( E A(x) \\left( \\frac{\\partial u}{\\partial x}-\\alpha \\Delta T(x,t)\\right)\\right)-\\rho A(x) \\frac{\\partial^2 u}{\\partial t^2}=-p(x,t)\n",
        "$$\n",
        "For a steady state problem with constant properties and isotermic conditions, the previous equation reduces to\n",
        "$$\n",
        "E A \\frac{\\partial^2 u}{\\partial x^2}=-p(x)\n",
        "$$\n",
        "which must be supplemented with boundary conditions.\n",
        "\n",
        "To analyze the converge of the finite element solution we propose an ad-hoc solution and find the corresponding force $p(x)$. Then, use this force as an input for the finite element model.\n",
        "\n",
        "The proposed solution is\n",
        "$$u(x)=sin\\left(\\frac{\\pi x}{2L}\\right)$$\n",
        "which fulfills the boundary conditions\n",
        "$$u(x)=0\\\\\n",
        "  u'(L)=0\n",
        "$$\n",
        "Then, \n",
        "$$-EA \\left(\\frac{\\pi}{2L}\\right)^2sin\\left(\\frac{\\pi x}{2L}\\right)=-p(x)$$\n",
        "So, the distributed force to be used as the input is\n",
        "$$p(x)=EA \\left(\\frac{\\pi}{2L}\\right)^2sin\\left(\\frac{\\pi x}{2L}\\right)$$\n"
      ]
    },
    {
      "cell_type": "markdown",
      "metadata": {
        "id": "rkASKTo9NX8I"
      },
      "source": [
        "The properties for the problem are"
      ]
    },
    {
      "cell_type": "code",
      "metadata": {
        "id": "E_2faKt7-UOA"
      },
      "source": [
        "Eyoung=1  # Young modulus [N/mm^2]\n",
        "A=1       # Bar's area\n",
        "L=1       # Lenght of the bar                                     "
      ],
      "execution_count": 3,
      "outputs": []
    },
    {
      "cell_type": "code",
      "metadata": {
        "colab": {
          "base_uri": "https://localhost:8080/",
          "height": 283
        },
        "id": "Eq0DdpFboJ_m",
        "outputId": "0df67c52-0363-41c5-e134-394ea8dc5865"
      },
      "source": [
        "def exact(x):\n",
        "  \"\"\" Function to describe the proposed solution of the PDE\"\"\"\n",
        "  return np.sin(x*np.pi/(2*L))\n",
        "\n",
        "x=np.linspace(0,1,20)  # Linear space to plot the function exact(x)\n",
        "y=exact(x)             # exact function evaluated at the x points\n",
        "plt.plot(x,y)          # Plot the function"
      ],
      "execution_count": 4,
      "outputs": [
        {
          "output_type": "execute_result",
          "data": {
            "text/plain": [
              "[<matplotlib.lines.Line2D at 0x7f0fc0a82190>]"
            ]
          },
          "metadata": {},
          "execution_count": 4
        },
        {
          "output_type": "display_data",
          "data": {
            "image/png": "[encoded data removed]",
            "text/plain": [
              "<Figure size 432x288 with 1 Axes>"
            ]
          },
          "metadata": {
            "needs_background": "light"
          }
        }
      ]
    },
    {
      "cell_type": "markdown",
      "metadata": {
        "id": "5tH7Io0iNdix"
      },
      "source": [
        "The ad-hoc force distribution is"
      ]
    },
    {
      "cell_type": "code",
      "metadata": {
        "colab": {
          "base_uri": "https://localhost:8080/",
          "height": 283
        },
        "id": "vsisO3caNimR",
        "outputId": "8983a075-3f19-4515-dc1b-498cffbb197c"
      },
      "source": [
        "def qx(x):\n",
        "  \"\"\"Function to describe the force distribution\"\"\"\n",
        "  return Eyoung*A*(np.pi/(2*L))**2*np.sin(x*np.pi/(2*L))\n",
        "\n",
        "x=np.linspace(0,L,20) # Linear space to plot the force distribution\n",
        "y=qx(x)               # Force distribution evaluated at the x points\n",
        "plt.plot(x,y)         # Plot the function"
      ],
      "execution_count": 5,
      "outputs": [
        {
          "output_type": "execute_result",
          "data": {
            "text/plain": [
              "[<matplotlib.lines.Line2D at 0x7f0fc05d8ad0>]"
            ]
          },
          "metadata": {},
          "execution_count": 5
        },
        {
          "output_type": "display_data",
          "data": {
            "image/png": "[encoded data removed]",
            "text/plain": [
              "<Figure size 432x288 with 1 Axes>"
            ]
          },
          "metadata": {
            "needs_background": "light"
          }
        }
      ]
    },
    {
      "cell_type": "markdown",
      "metadata": {
        "id": "qlc10waZHTwu"
      },
      "source": [
        "## Finite element solution (one element)"
      ]
    },
    {
      "cell_type": "code",
      "metadata": {
        "id": "krqK0dopHS-0",
        "colab": {
          "base_uri": "https://localhost:8080/"
        },
        "outputId": "310e03f3-3a41-42bb-a212-17fec2cfec62"
      },
      "source": [
        "coord1e=np.linspace(0,L,2) # Coordinates of the nodes\n",
        "coord1e                    # Show the values of coord1e"
      ],
      "execution_count": 6,
      "outputs": [
        {
          "output_type": "execute_result",
          "data": {
            "text/plain": [
              "array([0., 1.])"
            ]
          },
          "metadata": {},
          "execution_count": 6
        }
      ]
    },
    {
      "cell_type": "markdown",
      "metadata": {
        "id": "4_akwx8-IlYp"
      },
      "source": [
        "The conectivity of each elements is stored in the following array"
      ]
    },
    {
      "cell_type": "code",
      "metadata": {
        "id": "h2acIvPKIqMN"
      },
      "source": [
        "conectivity=np.array([[0,1]]) # Conectivity of the elements"
      ],
      "execution_count": 7,
      "outputs": []
    },
    {
      "cell_type": "markdown",
      "metadata": {
        "id": "BXA62ouZHkYQ"
      },
      "source": [
        "First we create the stiffness matrix and force vector for each element"
      ]
    },
    {
      "cell_type": "code",
      "metadata": {
        "id": "i8PDMo9SHyID"
      },
      "source": [
        "k0=Kbar1D(Eyoung,A,coord1e[0],coord1e[1]) # Local stiffness matrix for the first element\n",
        "f0=Fbar1D_f(qx,coord1e[0],coord1e[1])     # Local force vector for the first element"
      ],
      "execution_count": 8,
      "outputs": []
    },
    {
      "cell_type": "markdown",
      "metadata": {
        "id": "UAyDZ5pcH23s"
      },
      "source": [
        "Second we assemble these matrices into the global stiffness matrix"
      ]
    },
    {
      "cell_type": "code",
      "metadata": {
        "id": "6dTG77v8vrPo"
      },
      "source": [
        "Ndof=np.max(conectivity)+1            # This is the number of degrees of freedom in the system.\n",
        "KG=np.zeros([Ndof,Ndof])              # Initialize the global stiffness matrix with zeros\n",
        "FG=np.zeros([Ndof,1])                 # Initialize the global force vector with zeros\n",
        "\n",
        "KG=assembleK(k0,KG,conectivity[0])    # Assemble the first element in the global matrix\n",
        "FG=assembleF(f0,FG,conectivity[0])    # Assemble the first element in the global vector"
      ],
      "execution_count": 9,
      "outputs": []
    },
    {
      "cell_type": "markdown",
      "metadata": {
        "id": "c4grMlLCIuDl"
      },
      "source": [
        "### Apply the restriction to node 0"
      ]
    },
    {
      "cell_type": "code",
      "metadata": {
        "id": "v68ccgDDMM0v"
      },
      "source": [
        "dof_I=[0]                             # Degrees of freedom chosen as restricted (known)\n",
        "dof_II=[1]                            # Degrees of freedom chosen as free (unknown)"
      ],
      "execution_count": 10,
      "outputs": []
    },
    {
      "cell_type": "code",
      "metadata": {
        "id": "yXZDGvYUKWGL"
      },
      "source": [
        "K_I_I  = KG[np.ix_(dof_I,dof_I)]      # Submatrix extraction for the restricted dofs\n",
        "K_I_II = KG[np.ix_(dof_I,dof_II)]     # Submatrix extraction for the mixed dofs\n",
        "K_II_II= KG[np.ix_(dof_II,dof_II)]    # Submatrix extraction for the free dofs\n",
        "FG_I   = FG[np.ix_(dof_I,[0])]        # Subvector extraction for the restricted dofs\n",
        "FG_II  = FG[np.ix_(dof_II,[0])]       # Subvector extraction for the free dofs"
      ],
      "execution_count": 11,
      "outputs": []
    },
    {
      "cell_type": "markdown",
      "metadata": {
        "id": "1so956XIStPY"
      },
      "source": [
        "The solution for the II set of degrees of freedom is"
      ]
    },
    {
      "cell_type": "code",
      "metadata": {
        "colab": {
          "base_uri": "https://localhost:8080/"
        },
        "id": "C63SPGyCtZfH",
        "outputId": "00c4a462-190a-4a77-f03a-fe6b05d97b20"
      },
      "source": [
        "uf=np.matmul(np.linalg.inv(K_II_II),FG_II) # Solve the system of equations\n",
        "print(uf)"
      ],
      "execution_count": 12,
      "outputs": [
        {
          "output_type": "stream",
          "name": "stdout",
          "text": [
            "[[1.]]\n"
          ]
        }
      ]
    },
    {
      "cell_type": "code",
      "metadata": {
        "id": "Huk_wySrTrKO"
      },
      "source": [
        "sol1e=np.zeros([Ndof,1])              # Create a vector filled with zeros to store the solution\n",
        "sol1e[np.ix_(dof_II,[0])]=uf          # Add the uf solution to the global vector"
      ],
      "execution_count": 13,
      "outputs": []
    },
    {
      "cell_type": "markdown",
      "metadata": {
        "id": "YZgE5BGYRtMu"
      },
      "source": [
        "## Finite element solution (two elements)"
      ]
    },
    {
      "cell_type": "code",
      "metadata": {
        "colab": {
          "base_uri": "https://localhost:8080/"
        },
        "id": "uu9pHrI6RtMv",
        "outputId": "36c5d9b8-7d94-4715-dd64-7ba2f21b3207"
      },
      "source": [
        "coord2e=np.linspace(0,L,3) # Coordinates of the nodes\n",
        "coord2e                    # Show the values of coord2e"
      ],
      "execution_count": 14,
      "outputs": [
        {
          "output_type": "execute_result",
          "data": {
            "text/plain": [
              "array([0. , 0.5, 1. ])"
            ]
          },
          "metadata": {},
          "execution_count": 14
        }
      ]
    },
    {
      "cell_type": "markdown",
      "metadata": {
        "id": "CZZOhiipRtMv"
      },
      "source": [
        "The conectivity of each elements is stored in the following array"
      ]
    },
    {
      "cell_type": "code",
      "metadata": {
        "id": "lBsudo9eRtMv"
      },
      "source": [
        "conectivity=np.array([[0,1],[1,2]]) # Conectivity of the elements"
      ],
      "execution_count": 15,
      "outputs": []
    },
    {
      "cell_type": "markdown",
      "metadata": {
        "id": "DHrtZa9CRtMv"
      },
      "source": [
        "First we create the stiffness matrix and force vector for each element"
      ]
    },
    {
      "cell_type": "code",
      "metadata": {
        "id": "45z2O3mvRtMv"
      },
      "source": [
        "k0=Kbar1D(Eyoung,A,coord2e[0],coord2e[1]) # Local stiffness matrix for the first element\n",
        "f0=Fbar1D_f(qx,coord2e[0],coord2e[1])\n",
        "k1=Kbar1D(Eyoung,A,coord2e[1],coord2e[2]) # Local stiffness matrix for the second element\n",
        "f1=Fbar1D_f(qx,coord2e[1],coord2e[2])"
      ],
      "execution_count": 16,
      "outputs": []
    },
    {
      "cell_type": "markdown",
      "metadata": {
        "id": "zTEmfQW8RtMw"
      },
      "source": [
        "Second we assemble these matrices into the global stiffness matrix"
      ]
    },
    {
      "cell_type": "code",
      "metadata": {
        "id": "DFmnAhZSRtMw"
      },
      "source": [
        "Ndof=np.max(conectivity)+1            # This is the number of degrees of freedom in the system.\n",
        "KG=np.zeros([Ndof,Ndof])              # Initialize the global stiffness matrix with zeros\n",
        "FG=np.zeros([Ndof,1])                 # Initialize the global force vector with zeros\n",
        "\n",
        "KG=assembleK(k0,KG,conectivity[0])    # Assemble the first element in the global matrix\n",
        "FG=assembleF(f0,FG,conectivity[0])    # Assemble the first element in the global vector\n",
        "KG=assembleK(k1,KG,conectivity[1])    # Assemble the second element in the global matrix\n",
        "FG=assembleF(f1,FG,conectivity[1])    # Assemble the second element in the global vector"
      ],
      "execution_count": 17,
      "outputs": []
    },
    {
      "cell_type": "markdown",
      "metadata": {
        "id": "S3riT92ERtMw"
      },
      "source": [
        "### Apply the restriction to node 0"
      ]
    },
    {
      "cell_type": "code",
      "metadata": {
        "id": "iTXDO9k2RtMw"
      },
      "source": [
        "dof_I=[0]                             # Degrees of freedom chosen as restricted (known)\n",
        "dof_II=[1,2]                          # Degrees of freedom chosen as free (unknown)"
      ],
      "execution_count": 18,
      "outputs": []
    },
    {
      "cell_type": "code",
      "metadata": {
        "id": "TmMpyUYVRtMw"
      },
      "source": [
        "K_I_I  = KG[np.ix_(dof_I,dof_I)]      # Submatrix extraction for the restricted dofs\n",
        "K_I_II = KG[np.ix_(dof_I,dof_II)]     # Submatrix extraction for the mixed dofs\n",
        "K_II_II= KG[np.ix_(dof_II,dof_II)]    # Submatrix extraction for the free dofs\n",
        "FG_I   = FG[np.ix_(dof_I,[0])]        # Subvector extraction for the restricted dofs\n",
        "FG_II  = FG[np.ix_(dof_II,[0])]       # Subvector extraction for the free dofs"
      ],
      "execution_count": 19,
      "outputs": []
    },
    {
      "cell_type": "markdown",
      "metadata": {
        "id": "YBOuTqqaRtMw"
      },
      "source": [
        "The solution for the II set of degrees of freedom is"
      ]
    },
    {
      "cell_type": "code",
      "metadata": {
        "colab": {
          "base_uri": "https://localhost:8080/"
        },
        "id": "wgR48obtRtMx",
        "outputId": "7b5ae479-aa79-4363-ad7d-ba4b22cdfaa4"
      },
      "source": [
        "uf=np.matmul(np.linalg.inv(K_II_II),FG_II) # Solve the system of equations\n",
        "print(uf)"
      ],
      "execution_count": 20,
      "outputs": [
        {
          "output_type": "stream",
          "name": "stdout",
          "text": [
            "[[0.70710678]\n",
            " [1.        ]]\n"
          ]
        }
      ]
    },
    {
      "cell_type": "code",
      "metadata": {
        "id": "J27gzoLlSmH5"
      },
      "source": [
        "sol2e=np.zeros([Ndof,1])              # Create a vector filled with zeros to store the solution\n",
        "sol2e[np.ix_(dof_II,[0])]=uf          # Add the uf solution to the global vector"
      ],
      "execution_count": 21,
      "outputs": []
    },
    {
      "cell_type": "markdown",
      "metadata": {
        "id": "ZHYik6qeUfu-"
      },
      "source": [
        "## Finite element solution (four elements)"
      ]
    },
    {
      "cell_type": "code",
      "metadata": {
        "colab": {
          "base_uri": "https://localhost:8080/"
        },
        "id": "S4lK02eQUfvG",
        "outputId": "17eab58a-4539-4cde-9451-4c134362bba4"
      },
      "source": [
        "coord4e=np.linspace(0,L,5) # Coordinates of the nodes\n",
        "coord4e                    # Show the values of coord4e"
      ],
      "execution_count": 22,
      "outputs": [
        {
          "output_type": "execute_result",
          "data": {
            "text/plain": [
              "array([0.  , 0.25, 0.5 , 0.75, 1.  ])"
            ]
          },
          "metadata": {},
          "execution_count": 22
        }
      ]
    },
    {
      "cell_type": "markdown",
      "metadata": {
        "id": "TIoaqR48UfvG"
      },
      "source": [
        "The conectivity of each elements is stored in the following array"
      ]
    },
    {
      "cell_type": "code",
      "metadata": {
        "id": "hTTzk2OfUfvG"
      },
      "source": [
        "conectivity=np.array([[0,1],[1,2],[2,3],[3,4]]) # Conectivity of the elements"
      ],
      "execution_count": 23,
      "outputs": []
    },
    {
      "cell_type": "markdown",
      "metadata": {
        "id": "F0fCtukjUfvG"
      },
      "source": [
        "First we create the stiffness matrix and force vector for each element"
      ]
    },
    {
      "cell_type": "code",
      "metadata": {
        "id": "m2q8pLUSUfvG"
      },
      "source": [
        "k0=Kbar1D(Eyoung,A,coord4e[0],coord4e[1]) # Local stiffness matrix for the first element\n",
        "f0=Fbar1D_f(qx,coord4e[0],coord4e[1])     # Local force vector for the first element\n",
        "k1=Kbar1D(Eyoung,A,coord4e[1],coord4e[2]) # Local stiffness matrix for the second element\n",
        "f1=Fbar1D_f(qx,coord4e[1],coord4e[2])     # Local force vector for the second element\n",
        "k2=Kbar1D(Eyoung,A,coord4e[2],coord4e[3]) # Local stiffness matrix for the third element\n",
        "f2=Fbar1D_f(qx,coord4e[2],coord4e[3])     # Local force vector for the third element\n",
        "k3=Kbar1D(Eyoung,A,coord4e[3],coord4e[4]) # Local stiffness matrix for the fourth element\n",
        "f3=Fbar1D_f(qx,coord4e[3],coord4e[4])     # Local force vector for the fourth element"
      ],
      "execution_count": 24,
      "outputs": []
    },
    {
      "cell_type": "markdown",
      "metadata": {
        "id": "qVPlChErUfvG"
      },
      "source": [
        "Second we assemble these matrices into the global stiffness matrix"
      ]
    },
    {
      "cell_type": "code",
      "metadata": {
        "id": "WkT4o_hUUfvG"
      },
      "source": [
        "Ndof=np.max(conectivity)+1            # This is the number of degrees of freedom in the system.\n",
        "KG=np.zeros([Ndof,Ndof])              # Initialize the global stiffness matrix with zeros\n",
        "FG=np.zeros([Ndof,1])                 # Initialize the global force vector with zeros\n",
        "\n",
        "KG=assembleK(k0,KG,conectivity[0])    # Assemble the first element in the global matrix\n",
        "FG=assembleF(f0,FG,conectivity[0])    # Assemble the first element in the global vector\n",
        "KG=assembleK(k1,KG,conectivity[1])    # Assemble the second element in the global matrix\n",
        "FG=assembleF(f1,FG,conectivity[1])    # Assemble the second element in the global vector\n",
        "KG=assembleK(k2,KG,conectivity[2])    # Assemble the third element in the global matrix\n",
        "FG=assembleF(f2,FG,conectivity[2])    # Assemble the third element in the global vector\n",
        "KG=assembleK(k3,KG,conectivity[3])    # Assemble the fourth element in the global matrix\n",
        "FG=assembleF(f3,FG,conectivity[3])    # Assemble the fourth element in the global vector"
      ],
      "execution_count": 25,
      "outputs": []
    },
    {
      "cell_type": "markdown",
      "metadata": {
        "id": "sCYY1Zk0UfvG"
      },
      "source": [
        "### Apply the restriction to node 0"
      ]
    },
    {
      "cell_type": "code",
      "metadata": {
        "id": "b880dtj_UfvG"
      },
      "source": [
        "dof_I=[0]                             # Degrees of freedom chosen as restricted (known)\n",
        "dof_II=[1,2,3,4]                      # Degrees of freedom chosen as free (unknown)"
      ],
      "execution_count": 26,
      "outputs": []
    },
    {
      "cell_type": "code",
      "metadata": {
        "id": "B72zB3geUfvH"
      },
      "source": [
        "K_I_I  = KG[np.ix_(dof_I,dof_I)]      # Submatrix extraction for the restricted dofs\n",
        "K_I_II = KG[np.ix_(dof_I,dof_II)]     # Submatrix extraction for the mixed dofs\n",
        "K_II_II= KG[np.ix_(dof_II,dof_II)]    # Submatrix extraction for the free dofs\n",
        "FG_I   = FG[np.ix_(dof_I,[0])]        # Subvector extraction for the restricted dofs\n",
        "FG_II  = FG[np.ix_(dof_II,[0])]       # Subvector extraction for the free dofs"
      ],
      "execution_count": 27,
      "outputs": []
    },
    {
      "cell_type": "markdown",
      "metadata": {
        "id": "72kQccfNUfvH"
      },
      "source": [
        "The solution for the II set of degrees of freedom is"
      ]
    },
    {
      "cell_type": "code",
      "metadata": {
        "colab": {
          "base_uri": "https://localhost:8080/"
        },
        "id": "SsV6u_C7UfvH",
        "outputId": "cc2109a7-9279-4498-cadb-b5c9af1afe22"
      },
      "source": [
        "uf=np.matmul(np.linalg.inv(K_II_II),FG_II) # Solve the system of equations\n",
        "print(uf)"
      ],
      "execution_count": 28,
      "outputs": [
        {
          "output_type": "stream",
          "name": "stdout",
          "text": [
            "[[0.38268343]\n",
            " [0.70710678]\n",
            " [0.92387953]\n",
            " [1.        ]]\n"
          ]
        }
      ]
    },
    {
      "cell_type": "code",
      "metadata": {
        "id": "0GehBSoRUfvH"
      },
      "source": [
        "sol4e=np.zeros([Ndof,1])              # Create a vector filled with zeros to store the solution\n",
        "sol4e[np.ix_(dof_II,[0])]=uf"
      ],
      "execution_count": 29,
      "outputs": []
    },
    {
      "cell_type": "markdown",
      "metadata": {
        "id": "8Tpvm0UxFyM4"
      },
      "source": [
        "## Finite element solution (eight elements)"
      ]
    },
    {
      "cell_type": "code",
      "metadata": {
        "colab": {
          "base_uri": "https://localhost:8080/"
        },
        "id": "jAv5CxEMFyM5",
        "outputId": "2337f2c7-f4e9-4b53-90fb-f9a5c69f05be"
      },
      "source": [
        "coord8e=np.linspace(0,L,9) # Coordinates of the nodes\n",
        "coord8e                    # Show the values of coord8e"
      ],
      "execution_count": 30,
      "outputs": [
        {
          "output_type": "execute_result",
          "data": {
            "text/plain": [
              "array([0.   , 0.125, 0.25 , 0.375, 0.5  , 0.625, 0.75 , 0.875, 1.   ])"
            ]
          },
          "metadata": {},
          "execution_count": 30
        }
      ]
    },
    {
      "cell_type": "markdown",
      "metadata": {
        "id": "LZjhFk15FyM5"
      },
      "source": [
        "The conectivity of each elements is stored in the following array"
      ]
    },
    {
      "cell_type": "code",
      "metadata": {
        "id": "PVadKcAJFyM5"
      },
      "source": [
        "conectivity=np.array([[0,1],[1,2],[2,3],[3,4],[4,5],[5,6],[6,7],[7,8]]) # Conectivity of the elements"
      ],
      "execution_count": 31,
      "outputs": []
    },
    {
      "cell_type": "markdown",
      "metadata": {
        "id": "rMXjDzbXFyM6"
      },
      "source": [
        "First we create the stiffness matrix and force vector for each element"
      ]
    },
    {
      "cell_type": "code",
      "metadata": {
        "id": "PK6StzWpFyM6"
      },
      "source": [
        "k0=Kbar1D(Eyoung,A,coord8e[0],coord8e[1]) # Local stiffness matrix for the first element\n",
        "f0=Fbar1D_f(qx,coord8e[0],coord8e[1])     # Local force vector for the first element\n",
        "k1=Kbar1D(Eyoung,A,coord8e[1],coord8e[2]) # Local stiffness matrix for the second element\n",
        "f1=Fbar1D_f(qx,coord8e[1],coord8e[2])     # Local force vector for the second element\n",
        "k2=Kbar1D(Eyoung,A,coord8e[2],coord8e[3]) # Local stiffness matrix for the third element\n",
        "f2=Fbar1D_f(qx,coord8e[2],coord8e[3])     # Local force vector for the third element\n",
        "k3=Kbar1D(Eyoung,A,coord8e[3],coord8e[4]) # Local stiffness matrix for the fourth element\n",
        "f3=Fbar1D_f(qx,coord8e[3],coord8e[4])     # Local force vector for the fourth element\n",
        "k4=Kbar1D(Eyoung,A,coord8e[4],coord8e[5]) # Local stiffness matrix for the fifth element\n",
        "f4=Fbar1D_f(qx,coord8e[4],coord8e[5])     # Local force vector for the fifth element\n",
        "k5=Kbar1D(Eyoung,A,coord8e[5],coord8e[6]) # Local stiffness matrix for the sixth element\n",
        "f5=Fbar1D_f(qx,coord8e[5],coord8e[6])     # Local force vector for the sixth element\n",
        "k6=Kbar1D(Eyoung,A,coord8e[6],coord8e[7]) # Local stiffness matrix for the seventh element\n",
        "f6=Fbar1D_f(qx,coord8e[6],coord8e[7])     # Local force vector for the seventh element\n",
        "k7=Kbar1D(Eyoung,A,coord8e[7],coord8e[8]) # Local stiffness matrix for the eighth element\n",
        "f7=Fbar1D_f(qx,coord8e[7],coord8e[8])     # Local force vector for the eighth element"
      ],
      "execution_count": 32,
      "outputs": []
    },
    {
      "cell_type": "markdown",
      "metadata": {
        "id": "y_QV_sMpFyM6"
      },
      "source": [
        "Second we assemble these matrices into the global stiffness matrix"
      ]
    },
    {
      "cell_type": "code",
      "metadata": {
        "id": "-IgBgSqbFyM6"
      },
      "source": [
        "Ndof=np.max(conectivity)+1            # This is the number of degrees of freedom in the system.\n",
        "KG=np.zeros([Ndof,Ndof])              # Initialize the global stiffness matrix with zeros\n",
        "FG=np.zeros([Ndof,1])                 # Initialize the global force vector with zeros\n",
        "\n",
        "KG=assembleK(k0,KG,conectivity[0])    # Assemble the first element in the global matrix\n",
        "FG=assembleF(f0,FG,conectivity[0])    # Assemble the first element in the global vector\n",
        "KG=assembleK(k1,KG,conectivity[1])    # Assemble the second element in the global matrix\n",
        "FG=assembleF(f1,FG,conectivity[1])    # Assemble the second element in the global vector\n",
        "KG=assembleK(k2,KG,conectivity[2])    # Assemble the third element in the global matrix\n",
        "FG=assembleF(f2,FG,conectivity[2])    # Assemble the third element in the global vector\n",
        "KG=assembleK(k3,KG,conectivity[3])    # Assemble the fourth element in the global matrix\n",
        "FG=assembleF(f3,FG,conectivity[3])    # Assemble the fourth element in the global vector\n",
        "KG=assembleK(k4,KG,conectivity[4])    # Assemble the fifth element in the global matrix\n",
        "FG=assembleF(f4,FG,conectivity[4])    # Assemble the fifth element in the global vector\n",
        "KG=assembleK(k5,KG,conectivity[5])    # Assemble the sixth element in the global matrix\n",
        "FG=assembleF(f5,FG,conectivity[5])    # Assemble the sixth element in the global vector\n",
        "KG=assembleK(k6,KG,conectivity[6])    # Assemble the seventh element in the global matrix\n",
        "FG=assembleF(f6,FG,conectivity[6])    # Assemble the seventh element in the global vector\n",
        "KG=assembleK(k7,KG,conectivity[7])    # Assemble the eighth element in the global matrix\n",
        "FG=assembleF(f7,FG,conectivity[7])    # Assemble the eighth element in the global vector"
      ],
      "execution_count": 33,
      "outputs": []
    },
    {
      "cell_type": "markdown",
      "metadata": {
        "id": "H9YPDnw3FyM6"
      },
      "source": [
        "### Apply the restriction to node 0"
      ]
    },
    {
      "cell_type": "code",
      "metadata": {
        "id": "jTBDexzKFyM7"
      },
      "source": [
        "dof_I=[0]                             # Degrees of freedom chosen as restricted (known)\n",
        "dof_II=[1,2,3,4,5,6,7,8]              # Degrees of freedom chosen as free (unknown)"
      ],
      "execution_count": 34,
      "outputs": []
    },
    {
      "cell_type": "code",
      "metadata": {
        "id": "pAcInDsNFyM7"
      },
      "source": [
        "K_I_I  = KG[np.ix_(dof_I,dof_I)]      # Submatrix extraction for the restricted dofs\n",
        "K_I_II = KG[np.ix_(dof_I,dof_II)]     # Submatrix extraction for the mixed dofs\n",
        "K_II_II= KG[np.ix_(dof_II,dof_II)]    # Submatrix extraction for the free dofs\n",
        "FG_I   = FG[np.ix_(dof_I,[0])]        # Subvector extraction for the restricted dofs\n",
        "FG_II  = FG[np.ix_(dof_II,[0])]       # Subvector extraction for the free dofs"
      ],
      "execution_count": 35,
      "outputs": []
    },
    {
      "cell_type": "markdown",
      "metadata": {
        "id": "ao02K9tMFyM7"
      },
      "source": [
        "The solution for the II set of degrees of freedom is"
      ]
    },
    {
      "cell_type": "code",
      "metadata": {
        "colab": {
          "base_uri": "https://localhost:8080/"
        },
        "id": "FwoPleLzFyM7",
        "outputId": "9042a803-fd45-49fd-f2d0-c1c58775c792"
      },
      "source": [
        "uf=np.matmul(np.linalg.inv(K_II_II),FG_II) # Solve the system of equations\n",
        "print(uf)"
      ],
      "execution_count": 36,
      "outputs": [
        {
          "output_type": "stream",
          "name": "stdout",
          "text": [
            "[[0.19509032]\n",
            " [0.38268343]\n",
            " [0.55557023]\n",
            " [0.70710678]\n",
            " [0.83146961]\n",
            " [0.92387953]\n",
            " [0.98078528]\n",
            " [1.        ]]\n"
          ]
        }
      ]
    },
    {
      "cell_type": "code",
      "metadata": {
        "id": "5CbTRpN8FyM7"
      },
      "source": [
        "sol8e=np.zeros([Ndof,1])              # Create a vector filled with zeros to store the solution\n",
        "sol8e[np.ix_(dof_II,[0])]=uf          # Add the uf solution to the global vector"
      ],
      "execution_count": 37,
      "outputs": []
    },
    {
      "cell_type": "markdown",
      "metadata": {
        "id": "KZP0ZDuKTwru"
      },
      "source": [
        "## Solution comparison"
      ]
    },
    {
      "cell_type": "code",
      "metadata": {
        "colab": {
          "base_uri": "https://localhost:8080/",
          "height": 283
        },
        "id": "gITtpXB-SajN",
        "outputId": "54c56583-d654-4bfb-8e6c-2f34507ba202"
      },
      "source": [
        "plt.plot(coord1e,sol1e,\"bo-\")\n",
        "plt.plot(coord2e,sol2e,\"rs-\")\n",
        "plt.plot(coord4e,sol4e,\"g+-\")\n",
        "plt.plot(coord8e,sol8e,\"c*-\")\n",
        "plt.plot(x,np.sin(x*np.pi/2),\"k--\")\n",
        "plt.legend([\"FEM - 1 element\",\"FEM - 2 element\",\"FEM - 4 element\",\"FEM - 8 element\",\"Analytical\"])\n",
        "plt.show"
      ],
      "execution_count": 38,
      "outputs": [
        {
          "output_type": "execute_result",
          "data": {
            "text/plain": [
              "<function matplotlib.pyplot.show>"
            ]
          },
          "metadata": {},
          "execution_count": 38
        },
        {
          "output_type": "display_data",
          "data": {
            "image/png": "[encoded data removed]",
            "text/plain": [
              "<Figure size 432x288 with 1 Axes>"
            ]
          },
          "metadata": {
            "needs_background": "light"
          }
        }
      ]
    },
    {
      "cell_type": "markdown",
      "metadata": {
        "id": "KnNljaNX3QQ7"
      },
      "source": [
        "## Convergence analysis"
      ]
    },
    {
      "cell_type": "code",
      "metadata": {
        "id": "ppnfM-IATAPQ",
        "colab": {
          "base_uri": "https://localhost:8080/",
          "height": 283
        },
        "outputId": "897a7783-9658-4105-e72e-44020ff2056d"
      },
      "source": [
        "xErr=np.linspace(0,L,100)\n",
        "exactaErr=exact(xErr)\n",
        "uApp1e=interpolate.interp1d(coord1e,sol1e[:,0])\n",
        "uApp2e=interpolate.interp1d(coord2e,sol2e[:,0])\n",
        "uApp4e=interpolate.interp1d(coord4e,sol4e[:,0])\n",
        "uApp8e=interpolate.interp1d(coord8e,sol8e[:,0])\n",
        "plt.plot(xErr,uApp1e(xErr),xErr,uApp2e(xErr),xErr,uApp4e(xErr),xErr,uApp8e(xErr))\n",
        "plt.show"
      ],
      "execution_count": 45,
      "outputs": [
        {
          "output_type": "execute_result",
          "data": {
            "text/plain": [
              "<function matplotlib.pyplot.show>"
            ]
          },
          "metadata": {},
          "execution_count": 45
        },
        {
          "output_type": "display_data",
          "data": {
            "image/png": "[encoded data removed]",
            "text/plain": [
              "<Figure size 432x288 with 1 Axes>"
            ]
          },
          "metadata": {
            "needs_background": "light"
          }
        }
      ]
    },
    {
      "cell_type": "code",
      "metadata": {
        "id": "17UFUaVUkvQl"
      },
      "source": [
        "err1e_L2=np.sqrt(np.trapz((uApp1e(xErr)-exactaErr)**2,x=xErr))\n",
        "err2e_L2=np.sqrt(np.trapz((uApp2e(xErr)-exactaErr)**2,x=xErr))\n",
        "err4e_L2=np.sqrt(np.trapz((uApp4e(xErr)-exactaErr)**2,x=xErr))\n",
        "err8e_L2=np.sqrt(np.trapz((uApp8e(xErr)-exactaErr)**2,x=xErr))"
      ],
      "execution_count": 40,
      "outputs": []
    },
    {
      "cell_type": "code",
      "metadata": {
        "colab": {
          "base_uri": "https://localhost:8080/"
        },
        "id": "FSdw7PQ3pGFr",
        "outputId": "ebb9fb05-27f9-4216-b4e4-7a65640f3208"
      },
      "source": [
        "hList=[L,L/2,L/4,L/8]\n",
        "errList=[err1e_L2,err2e_L2,err4e_L2,err8e_L2]\n",
        "errList"
      ],
      "execution_count": 41,
      "outputs": [
        {
          "output_type": "execute_result",
          "data": {
            "text/plain": [
              "[0.15087698293834545,\n",
              " 0.039284347565335005,\n",
              " 0.009920919860140905,\n",
              " 0.002486501326500692]"
            ]
          },
          "metadata": {},
          "execution_count": 41
        }
      ]
    },
    {
      "cell_type": "code",
      "metadata": {
        "colab": {
          "base_uri": "https://localhost:8080/",
          "height": 300
        },
        "id": "2oVS1OJwuRkc",
        "outputId": "6dd2c335-6630-48d1-befe-bbfa45cc075b"
      },
      "source": [
        "plt.loglog(hList,errList,\"o-\")\n",
        "plt.xlabel(\"h\")\n",
        "plt.ylabel(\"Error\")\n",
        "plt.grid(which=\"both\")\n",
        "plt.show"
      ],
      "execution_count": 46,
      "outputs": [
        {
          "output_type": "execute_result",
          "data": {
            "text/plain": [
              "<function matplotlib.pyplot.show>"
            ]
          },
          "metadata": {},
          "execution_count": 46
        },
        {
          "output_type": "display_data",
          "data": {
            "image/png": "[encoded data removed]",
            "text/plain": [
              "<Figure size 432x288 with 1 Axes>"
            ]
          },
          "metadata": {
            "needs_background": "light"
          }
        }
      ]
    },
    {
      "cell_type": "markdown",
      "metadata": {
        "id": "UGnC41qd-kKk"
      },
      "source": [
        "The error is proportional to the power $n$ of the discretization\n",
        "$$e\\propto C h^n$$\n",
        "then\n",
        "$$log(e)\\propto n\\ log(h)+log(C)$$\n",
        "where $n$ is the *order of convergence* of the method. This value can be found using experimental (numerical) data to obtain the Experimental Order fo Convergence (EOC)."
      ]
    },
    {
      "cell_type": "code",
      "metadata": {
        "id": "pgcS5_sLuTb0"
      },
      "source": [
        "logerr=np.log(errList)\n",
        "logh  =np.log(hList)"
      ],
      "execution_count": 43,
      "outputs": []
    },
    {
      "cell_type": "code",
      "metadata": {
        "colab": {
          "base_uri": "https://localhost:8080/"
        },
        "id": "k8QVO3hywXU1",
        "outputId": "4de0867f-6221-464c-9bf3-4c605fdfad84"
      },
      "source": [
        "np.polyfit(logh,logerr,1)"
      ],
      "execution_count": 44,
      "outputs": [
        {
          "output_type": "execute_result",
          "data": {
            "text/plain": [
              "array([ 1.9754744, -1.8806102])"
            ]
          },
          "metadata": {},
          "execution_count": 44
        }
      ]
    },
    {
      "cell_type": "code",
      "metadata": {
        "id": "S0SrJpJ0AeB8"
      },
      "source": [
        ""
      ],
      "execution_count": 44,
      "outputs": []
    }
  ]
}