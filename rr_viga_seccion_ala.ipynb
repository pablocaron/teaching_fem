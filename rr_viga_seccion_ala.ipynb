{
  "nbformat": 4,
  "nbformat_minor": 0,
  "metadata": {
    "colab": {
      "name": "rr_viga_seccion_ala.ipynb",
      "provenance": [],
      "authorship_tag": "ABX9TyOnNcfw+viLRdJeidcxl+Xh",
      "include_colab_link": true
    },
    "kernelspec": {
      "name": "python3",
      "display_name": "Python 3"
    },
    "language_info": {
      "name": "python"
    }
  },
  "cells": [
    {
      "cell_type": "markdown",
      "metadata": {
        "id": "view-in-github",
        "colab_type": "text"
      },
      "source": [
        "<a href=\"https://colab.research.google.com/github/pablocaron/teaching_fem/blob/main/rr_viga_seccion_ala.ipynb\" target=\"_parent\"><img src=\"https://colab.research.google.com/assets/colab-badge.svg\" alt=\"Open In Colab\"/></a>"
      ]
    },
    {
      "cell_type": "markdown",
      "metadata": {
        "id": "4ypkgDN7vofi"
      },
      "source": [
        "# Setup\n",
        "Cargamos lo paquetes necesarios para desarrollar la planilla"
      ]
    },
    {
      "cell_type": "code",
      "metadata": {
        "id": "VKVoh6LGs0ZS"
      },
      "source": [
        "import sympy as sym\n",
        "import scipy.integrate as integrate\n",
        "#from  scipy.integrate as sci\n",
        "import numpy as np\n",
        "from matplotlib import pyplot as plt"
      ],
      "execution_count": 1,
      "outputs": []
    },
    {
      "cell_type": "markdown",
      "metadata": {
        "id": "ZPfHRn1tr2jZ"
      },
      "source": [
        "# Definición del problema\n",
        "Tramo de ala con resortes lineales y de torsión en cada extremo con carga constante"
      ]
    },
    {
      "cell_type": "code",
      "metadata": {
        "id": "Z4HDb-u85n__"
      },
      "source": [
        "E=70e9   # Modulo de young [Pa]\n",
        "L=0.4    # Longitud de la viga\n",
        "I=2e-9   # Momento de inercia\n",
        "k1=1e6   # Constante del resorte 1\n",
        "k2=1e6   # Constante del resorte 2\n",
        "kt1=1000 # Constante del resorte de torsión 1\n",
        "kt2=1000 # Constante del resorte de torsión 2\n",
        "qPa=6000 # Carga distribuida [Pa]\n",
        "e=0.4    # Profundidad [m]\n",
        "qL=qPa*e # Carga distribuida [N/m]"
      ],
      "execution_count": 2,
      "outputs": []
    },
    {
      "cell_type": "markdown",
      "metadata": {
        "id": "R6wqrrgZsGBj"
      },
      "source": [
        "## Definición de las funciones a utilizar\n",
        "La función de aproximación es\n",
        "$$\n",
        "v(x)=\\begin{bmatrix}\n",
        "     1 & x & x^2 & x^3\n",
        "     \\end{bmatrix}\n",
        "     \\begin{Bmatrix}\n",
        "     C_1 \\\\ C_2 \\\\ C_3 \\\\ C_4\n",
        "     \\end{Bmatrix}\n",
        "$$"
      ]
    },
    {
      "cell_type": "code",
      "metadata": {
        "id": "XVgTUScfs-jG"
      },
      "source": [
        "Ndof=4\n",
        "\n",
        "def N0(x):\n",
        "  y=np.ones(np.shape(x))\n",
        "  return y\n",
        "def N0p(x):\n",
        "  y=np.zeros(np.shape(x))\n",
        "  return y\n",
        "def N0pp(x):\n",
        "  y=np.zeros(np.shape(x))\n",
        "  return y\n",
        "\n",
        "def N1(x):\n",
        "  return x\n",
        "def N1p(x):\n",
        "  y=np.ones(np.shape(x))\n",
        "  return y\n",
        "def N1pp(x):\n",
        "  y=np.zeros(np.shape(x))\n",
        "  return y\n",
        "\n",
        "def N2(x):\n",
        "  return x**2\n",
        "def N2p(x):\n",
        "  return 2*x\n",
        "def N2pp(x):\n",
        "  y=np.ones(np.shape(x))*2\n",
        "  return y\n",
        "\n",
        "def N3(x):\n",
        "  return x**3\n",
        "def N3p(x):\n",
        "  return 3*x**2\n",
        "def N3pp(x):\n",
        "  return 6*x\n",
        "\n",
        "def yApprox0(x,c):\n",
        "  y=N0(x)*c\n",
        "  return y\n",
        "def yApprox1(x,c):\n",
        "  y=N0(x)*c[0]+N1(x)*c[1]\n",
        "  return y\n",
        "def yApprox2(x,c):\n",
        "  y=N0(x)*c[0]+N1(x)*c[1]+N2(x)*c[2]\n",
        "  return y\n",
        "def yApprox3(x,c):\n",
        "  y=N0(x)*c[0]+N1(x)*c[1]+N2(x)*c[2]+N3(x)*c[3]\n",
        "  return y"
      ],
      "execution_count": 3,
      "outputs": []
    },
    {
      "cell_type": "markdown",
      "metadata": {
        "id": "dgPcV5xcw6SG"
      },
      "source": [
        "# Método de Rayleigh-Ritz \n",
        "## Matriz de rigidez de la viga\n"
      ]
    },
    {
      "cell_type": "code",
      "metadata": {
        "colab": {
          "base_uri": "https://localhost:8080/"
        },
        "id": "1GAXcMGDuAXf",
        "outputId": "e39bc79c-5759-4e03-ab1a-f5b798819a0b"
      },
      "source": [
        "def NppTNpp(x,i,j):\n",
        "  \"\"\"\n",
        "  Devuelve el integrando de cada componente de la matriz de rigidez\n",
        "  \"\"\"\n",
        "  mij=E*I*np.array([[N0pp(x)*N0pp(x),N0pp(x)*N1pp(x),N0pp(x)*N2pp(x),N0pp(x)*N3pp(x)],\n",
        "                    [N1pp(x)*N0pp(x),N1pp(x)*N1pp(x),N1pp(x)*N2pp(x),N1pp(x)*N3pp(x)],\n",
        "                    [N2pp(x)*N0pp(x),N2pp(x)*N1pp(x),N2pp(x)*N2pp(x),N2pp(x)*N3pp(x)],\n",
        "                    [N3pp(x)*N0pp(x),N3pp(x)*N1pp(x),N3pp(x)*N2pp(x),N3pp(x)*N3pp(x)]])\n",
        "  return mij[i,j]\n",
        "\n",
        "Kv=np.zeros([Ndof,Ndof])  # Creamos un array vacío para la matriz de rigidez\n",
        "for i in range(Ndof):\n",
        "  for j in range(Ndof):\n",
        "    Kv[i,j]=integrate.quad(NppTNpp,0,L,args=(i,j))[0]  # Integramos cada término\n",
        "\n",
        "print(Kv)                 # Imprimimos la matriz de rigidez"
      ],
      "execution_count": 4,
      "outputs": [
        {
          "output_type": "stream",
          "name": "stdout",
          "text": [
            "[[  0.     0.     0.     0.  ]\n",
            " [  0.     0.     0.     0.  ]\n",
            " [  0.     0.   224.   134.4 ]\n",
            " [  0.     0.   134.4  107.52]]\n"
          ]
        }
      ]
    },
    {
      "cell_type": "markdown",
      "metadata": {
        "id": "1JOR_hnn777P"
      },
      "source": [
        "## Matriz de rigidez de los resortes lineales"
      ]
    },
    {
      "cell_type": "code",
      "metadata": {
        "colab": {
          "base_uri": "https://localhost:8080/"
        },
        "id": "oRnr3OYduF-I",
        "outputId": "d4ae5704-874c-4ceb-a23e-a9c492d4b613"
      },
      "source": [
        "Krl1=np.matmul(np.transpose(np.array([[N0(0),N1(0),N2(0),N3(0)]])),np.array([[N0(0),N1(0),N2(0),N3(0)]]))*k1\n",
        "print(Krl1)\n"
      ],
      "execution_count": 5,
      "outputs": [
        {
          "output_type": "stream",
          "name": "stdout",
          "text": [
            "[[1000000.       0.       0.       0.]\n",
            " [      0.       0.       0.       0.]\n",
            " [      0.       0.       0.       0.]\n",
            " [      0.       0.       0.       0.]]\n"
          ]
        }
      ]
    },
    {
      "cell_type": "code",
      "metadata": {
        "colab": {
          "base_uri": "https://localhost:8080/"
        },
        "id": "yzay5hw53B86",
        "outputId": "ae50e1b4-da32-4bcd-f213-4e8d98b1b2bd"
      },
      "source": [
        "Krl2=np.matmul(np.transpose(np.array([[N0(L),N1(L),N2(L),N3(L)]])),np.array([[N0(L),N1(L),N2(L),N3(L)]]))*k2\n",
        "print(Krl2)"
      ],
      "execution_count": 6,
      "outputs": [
        {
          "output_type": "stream",
          "name": "stdout",
          "text": [
            "[[1000000.  400000.  160000.   64000.]\n",
            " [ 400000.  160000.   64000.   25600.]\n",
            " [ 160000.   64000.   25600.   10240.]\n",
            " [  64000.   25600.   10240.    4096.]]\n"
          ]
        }
      ]
    },
    {
      "cell_type": "markdown",
      "metadata": {
        "id": "RjQVo0gmyDE0"
      },
      "source": [
        "## Matriz de rigidez de los resortes de torsión"
      ]
    },
    {
      "cell_type": "code",
      "metadata": {
        "colab": {
          "base_uri": "https://localhost:8080/"
        },
        "id": "D_DQskC8-6Vz",
        "outputId": "7398d8b3-5207-4e1b-c8d7-b0b4484af0df"
      },
      "source": [
        "Krt1=np.matmul(np.transpose(np.array([[N0p(0),N1p(0),N2p(0),N3p(0)]])),np.array([[N0p(0),N1p(0),N2p(0),N3p(0)]]))*kt1\n",
        "print(Krt1)"
      ],
      "execution_count": 7,
      "outputs": [
        {
          "output_type": "stream",
          "name": "stdout",
          "text": [
            "[[   0.    0.    0.    0.]\n",
            " [   0. 1000.    0.    0.]\n",
            " [   0.    0.    0.    0.]\n",
            " [   0.    0.    0.    0.]]\n"
          ]
        }
      ]
    },
    {
      "cell_type": "code",
      "metadata": {
        "colab": {
          "base_uri": "https://localhost:8080/"
        },
        "id": "O9hesGn5_kYt",
        "outputId": "98037498-2f1a-4382-b2d5-2991216684bf"
      },
      "source": [
        "Krt2=np.matmul(np.transpose(np.array([[N0p(L),N1p(L),N2p(L),N3p(L)]])),np.array([[N0p(L),N1p(L),N2p(L),N3p(L)]]))*kt2\n",
        "print(Krt2)"
      ],
      "execution_count": 8,
      "outputs": [
        {
          "output_type": "stream",
          "name": "stdout",
          "text": [
            "[[   0.     0.     0.     0. ]\n",
            " [   0.  1000.   800.   480. ]\n",
            " [   0.   800.   640.   384. ]\n",
            " [   0.   480.   384.   230.4]]\n"
          ]
        }
      ]
    },
    {
      "cell_type": "markdown",
      "metadata": {
        "id": "gvR9TJcfyMQF"
      },
      "source": [
        "## Matriz de rigidez completa"
      ]
    },
    {
      "cell_type": "code",
      "metadata": {
        "colab": {
          "base_uri": "https://localhost:8080/"
        },
        "id": "wns3CxoT_pYX",
        "outputId": "ffb2b6d9-17bd-4fbd-b508-9ef5a1ebd26c"
      },
      "source": [
        "Ktot=Kv+Krl1+Krl2+Krt1+Krt2\n",
        "print(Ktot)"
      ],
      "execution_count": 9,
      "outputs": [
        {
          "output_type": "stream",
          "name": "stdout",
          "text": [
            "[[2000000.    400000.    160000.     64000.  ]\n",
            " [ 400000.    162000.     64800.     26080.  ]\n",
            " [ 160000.     64800.     26464.     10758.4 ]\n",
            " [  64000.     26080.     10758.4     4433.92]]\n"
          ]
        }
      ]
    },
    {
      "cell_type": "markdown",
      "metadata": {
        "id": "S3FXQTKiCnRI"
      },
      "source": [
        "## Vector de fuerzas"
      ]
    },
    {
      "cell_type": "code",
      "metadata": {
        "colab": {
          "base_uri": "https://localhost:8080/"
        },
        "id": "m_nZr1htCaSr",
        "outputId": "317f89da-7468-4182-a088-4336d6a8bceb"
      },
      "source": [
        "def NTq(x,i):\n",
        "  pi=np.array([[N0(x),N1(x),N2(x),N3(x)]])[0,i]*qL\n",
        "  return pi\n",
        "\n",
        "fq=np.zeros([Ndof,1])\n",
        "for i in range(Ndof):\n",
        "  fq[i,0]=integrate.quad(NTq,0,L,args=i)[0]\n",
        "\n",
        "print(fq)"
      ],
      "execution_count": 10,
      "outputs": [
        {
          "output_type": "stream",
          "name": "stdout",
          "text": [
            "[[960.  ]\n",
            " [192.  ]\n",
            " [ 51.2 ]\n",
            " [ 15.36]]\n"
          ]
        }
      ]
    },
    {
      "cell_type": "markdown",
      "metadata": {
        "id": "htd1w2dqySlq"
      },
      "source": [
        "## Solución"
      ]
    },
    {
      "cell_type": "code",
      "metadata": {
        "id": "1vUMWoHZD7Bc"
      },
      "source": [
        "# Solución con un DOF\n",
        "Ndof = 1\n",
        "KToSolve   =Ktot[np.ix_(range(0,Ndof),range(0,Ndof))]\n",
        "fqToSolve  =fq[np.ix_(range(0,Ndof))]\n",
        "c1=np.matmul(np.linalg.inv(KToSolve),fqToSolve)\n",
        "# Solución con dos DOF\n",
        "Ndof = 2\n",
        "KToSolve   =Ktot[np.ix_(range(0,Ndof),range(0,Ndof))]\n",
        "fqToSolve  =fq[np.ix_(range(0,Ndof))]\n",
        "c2=np.matmul(np.linalg.inv(KToSolve),fqToSolve)\n",
        "# Solución con tres DOF\n",
        "Ndof = 3\n",
        "KToSolve   =Ktot[np.ix_(range(0,Ndof),range(0,Ndof))]\n",
        "fqToSolve  =fq[np.ix_(range(0,Ndof))]\n",
        "c3=np.matmul(np.linalg.inv(KToSolve),fqToSolve)\n",
        "# Solución con cuatro DOF\n",
        "Ndof = 4\n",
        "KToSolve   =Ktot[np.ix_(range(0,Ndof),range(0,Ndof))]\n",
        "fqToSolve  =fq[np.ix_(range(0,Ndof))]\n",
        "c4=np.matmul(np.linalg.inv(KToSolve),fqToSolve)\n"
      ],
      "execution_count": 11,
      "outputs": []
    },
    {
      "cell_type": "markdown",
      "metadata": {
        "id": "cpHxI6Bnym25"
      },
      "source": [
        "## Gráficos"
      ]
    },
    {
      "cell_type": "code",
      "metadata": {
        "colab": {
          "base_uri": "https://localhost:8080/",
          "height": 283
        },
        "id": "AF8xJgwpEGrR",
        "outputId": "96991a5f-a720-42b5-a17b-72b77b06ac3f"
      },
      "source": [
        "xPlot=np.linspace(0,L,50)\n",
        "\n",
        "yPlotc1=yApprox0(xPlot,c1)[0]\n",
        "yPlotc2=yApprox1(xPlot,c2)\n",
        "yPlotc3=yApprox2(xPlot,c3)\n",
        "yPlotc4=yApprox3(xPlot,c4)\n",
        "\n",
        "#print(yPlot)\n",
        "plt.plot(xPlot,yPlotc1, linewidth=1.5,linestyle=\"solid\",color=\"red\")\n",
        "plt.plot(xPlot,yPlotc2, linewidth=1.5,linestyle=\"dashed\",color=\"blue\")\n",
        "plt.plot(xPlot,yPlotc3, linewidth=1.5,linestyle=\"dashdot\",color=\"green\")\n",
        "plt.plot(xPlot,yPlotc4, linewidth=1.5,linestyle=\"dotted\",color=\"black\")\n",
        "plt.legend([\"1 GdL\",\"2 GdL\",\"3 GdL\",\"4 GdL\"])\n",
        "plt.show"
      ],
      "execution_count": 12,
      "outputs": [
        {
          "output_type": "execute_result",
          "data": {
            "text/plain": [
              "<function matplotlib.pyplot.show>"
            ]
          },
          "metadata": {},
          "execution_count": 12
        },
        {
          "output_type": "display_data",
          "data": {
            "image/png": "[encoded data removed]",
            "text/plain": [
              "<Figure size 432x288 with 1 Axes>"
            ]
          },
          "metadata": {
            "needs_background": "light"
          }
        }
      ]
    },
    {
      "cell_type": "code",
      "metadata": {
        "id": "p2gnYZ53dY3W"
      },
      "source": [
        ""
      ],
      "execution_count": 12,
      "outputs": []
    }
  ]
}