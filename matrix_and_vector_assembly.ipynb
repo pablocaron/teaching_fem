{
  "nbformat": 4,
  "nbformat_minor": 0,
  "metadata": {
    "colab": {
      "name": "matrix_and_vector_assembly.ipynb",
      "provenance": [],
      "collapsed_sections": [],
      "authorship_tag": "ABX9TyMZyGDxbnBn387TI0abPrtw",
      "include_colab_link": true
    },
    "kernelspec": {
      "name": "python3",
      "display_name": "Python 3"
    },
    "language_info": {
      "name": "python"
    }
  },
  "cells": [
    {
      "cell_type": "markdown",
      "metadata": {
        "id": "view-in-github",
        "colab_type": "text"
      },
      "source": [
        "<a href=\"https://colab.research.google.com/github/pablocaron/teaching_fem/blob/main/matrix_and_vector_assembly.ipynb\" target=\"_parent\"><img src=\"https://colab.research.google.com/assets/colab-badge.svg\" alt=\"Open In Colab\"/></a>"
      ]
    },
    {
      "cell_type": "markdown",
      "metadata": {
        "id": "DgyxmN07ulqL"
      },
      "source": [
        "Cargar las variables de entorno"
      ]
    },
    {
      "cell_type": "code",
      "metadata": {
        "id": "CdDqYzEKutEz"
      },
      "source": [
        "import numpy as np\n",
        "from matplotlib import pyplot as plt\n",
        "from matplotlib import cm\n",
        "import sympy as sym"
      ],
      "execution_count": 2,
      "outputs": []
    },
    {
      "cell_type": "markdown",
      "metadata": {
        "id": "DMiai5bfvVtc"
      },
      "source": [
        "Definición de las funciones"
      ]
    },
    {
      "cell_type": "code",
      "metadata": {
        "id": "PCCkx2nJvf8D"
      },
      "source": [
        "def Kbarra1D(E,A,L):\n",
        "  return np.array([[1, -1],[-1, 1]])*(E*A)/L\n",
        "\n",
        "def assemble(klocal,kglobal,conec):\n",
        "  klocalsize=np.shape(klocal)\n",
        "  print(klocalsize[1])\n",
        "  for i in range(klocalsize[1]):\n",
        "    for j in range(klocalsize[1]):\n",
        "      kglobal[conec[i],conec[j]]+=klocal[i,j]\n",
        "  return kglobal"
      ],
      "execution_count": 7,
      "outputs": []
    },
    {
      "cell_type": "markdown",
      "metadata": {
        "id": "BVNdZpyIvpTJ"
      },
      "source": [
        "Ejemplo de aplicación"
      ]
    },
    {
      "cell_type": "code",
      "metadata": {
        "colab": {
          "base_uri": "https://localhost:8080/"
        },
        "id": "6dTG77v8vrPo",
        "outputId": "b0fe1ef2-431d-4061-856a-75e5c522fde3"
      },
      "source": [
        "k1=Kbarra1D(1,1,1)\n",
        "k2=Kbarra1D(2,1,1)\n",
        "\n",
        "KG=np.zeros([3,3])\n",
        "conectivity=np.array([[0,1],[1,2]])\n",
        "np.max(conectivity)\n",
        "KG=assemble(k1,KG,conectivity[0])\n",
        "KG=assemble(k2,KG,conectivity[1])\n",
        "KG"
      ],
      "execution_count": 8,
      "outputs": [
        {
          "output_type": "stream",
          "text": [
            "2\n",
            "2\n"
          ],
          "name": "stdout"
        },
        {
          "output_type": "execute_result",
          "data": {
            "text/plain": [
              "array([[ 1., -1.,  0.],\n",
              "       [-1.,  3., -2.],\n",
              "       [ 0., -2.,  2.]])"
            ]
          },
          "metadata": {},
          "execution_count": 8
        }
      ]
    }
  ]
}